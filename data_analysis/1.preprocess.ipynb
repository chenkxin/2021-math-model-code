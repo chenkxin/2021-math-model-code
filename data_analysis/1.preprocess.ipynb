{
 "cells": [
  {
   "cell_type": "code",
   "execution_count": null,
   "metadata": {},
   "outputs": [],
   "source": [
    "# Author: QiangZiBro\n",
    "# Time: 2021-10-14\n",
    "# Contact: Github/QiangZiBro\n",
    "\n",
    "# data analysis and wrangling\n",
    "import pandas as pd\n",
    "import numpy as np\n",
    "import random as rnd\n",
    "import warnings\n",
    "# visualization\n",
    "import seaborn as sns\n",
    "import matplotlib.pyplot as plt\n",
    "\n",
    "plt.style.use('ggplot')\n",
    "# MacOS上画图中文乱码的问题\n",
    "# https://blog.csdn.net/minixuezhen/article/details/81516949?utm_medium=distribute.pc_relevant.none-task-blog-\n",
    "plt.rcParams['font.sans-serif'] = ['Arial Unicode MS']\n",
    "\n",
    "# %matplotlib inline\n",
    "\n",
    "import sys\n",
    "import os\n",
    "\n",
    "from pprint import pprint\n",
    "\n",
    "if not os.path.exists(\"results\"):\n",
    "    os.mkdir(\"results\")\n",
    "\n",
    "warnings.filterwarnings(\"ignore\")\n",
    "FIGSIZE = (30, 25)\n",
    "FORMAT = \"jpg\""
   ]
  },
  {
   "cell_type": "markdown",
   "metadata": {},
   "source": [
    "## 数据加载工具"
   ]
  },
  {
   "cell_type": "code",
   "execution_count": null,
   "metadata": {},
   "outputs": [],
   "source": [
    "PLACES = ['A', 'B', 'C', 'A1', 'A2', 'A3']\n",
    "TYPES = [0, 1, 2]\n",
    "def _load_data():\n",
    "    table_files = \"\"\"data/附件1 监测点A空气质量预报基础数据.xlsx\n",
    "data/附件2 监测点B、C空气质量预报基础数据.xlsx\n",
    "data/附件3 监测点A1、A2、A3空气质量预报基础数据.xlsx\"\"\".split(\"\\n\")\n",
    "    tables = [pd.read_excel(\"../\"+i, engine='openpyxl', sheet_name=None) for i in table_files] # 表格全读取\n",
    "    keys = [list(i.keys()) for i in tables] # 每个表格的sheet list\n",
    "    return tables, keys\n",
    "\n",
    "def _process_to_json(tables):\n",
    "    sheetnames = {0:'监测点{}逐小时污染物浓度与气象一次预报数据', 1:'监测点{}逐小时污染物浓度与气象实测数据', 2:'监测点{}逐日污染物浓度实测数据'}\n",
    "    result = {i:{} for i in PLACES}\n",
    "    \n",
    "    for k,v in sheetnames.items():\n",
    "        tables[0][v.format('A')].name = v.format('A')\n",
    "        result['A'][k] = tables[0][v.format('A')]\n",
    "    for c in ['B', 'C']:\n",
    "        for k,v in sheetnames.items():\n",
    "            tables[1][v.format(c)].name = v.format(c)\n",
    "            result[c][k] = tables[1][v.format(c)]\n",
    "    for c in ['A1', 'A2', 'A3']:\n",
    "        for k,v in sheetnames.items():\n",
    "            tables[2][v.format(c)].name = v.format(c)\n",
    "            result[c][k] = tables[2][v.format(c)]\n",
    "    return result\n",
    "\n",
    "def load(): \n",
    "    \"\"\"得到一个Json格式的数据项\n",
    "    \n",
    "    Return:\n",
    "        {\n",
    "            \"A\":{\n",
    "                \"0\":DataFrame,\n",
    "                \"1\":DataFrame,\n",
    "                \"2\":DataFrame,\n",
    "            }\n",
    "            ...\n",
    "        }\n",
    "    \"\"\"\n",
    "    \n",
    "    tables, keys = _load_data()\n",
    "    return _process_to_json(tables)\n",
    "\n",
    "data = load()"
   ]
  },
  {
   "cell_type": "markdown",
   "metadata": {},
   "source": [
    "## 一键报告（仅供参考）"
   ]
  },
  {
   "cell_type": "code",
   "execution_count": null,
   "metadata": {},
   "outputs": [],
   "source": [
    "import pandas_profiling\n",
    "from pathlib import Path\n",
    "for p in PLACES:\n",
    "    for i in range(3):\n",
    "        profile = data[p][i].profile_report(title = f\"{p}_{i}\")\n",
    "        profile.to_file(output_file = Path(f\"./{p}_{i}_report.html\"))"
   ]
  },
  {
   "cell_type": "code",
   "execution_count": null,
   "metadata": {},
   "outputs": [],
   "source": [
    "import sweetviz as sv\n",
    "my_report = sv.analyze(data['A'][2])\n",
    "my_report.show_html()\n",
    "\n",
    "for p in PLACES:\n",
    "    for i in range(3):\n",
    "        my_report = sv.analyze(data[p][i])\n",
    "        my_report.show_html(Path(f\"./sv_{p}_{i}_report.html\"))"
   ]
  },
  {
   "cell_type": "code",
   "execution_count": null,
   "metadata": {},
   "outputs": [],
   "source": [
    "print(data.keys())\n",
    "print(data['A'].keys())\n",
    "# for p in PLACES:\n",
    "#     for i in range(3): \n",
    "#         print(data[p][i].min())"
   ]
  },
  {
   "cell_type": "markdown",
   "metadata": {},
   "source": [
    "# 数据处理\n",
    "- 缺失值填充\n",
    "- 负值替换"
   ]
  },
  {
   "cell_type": "code",
   "execution_count": null,
   "metadata": {},
   "outputs": [],
   "source": [
    "def create_new_table_for_place(p):\n",
    "    writer = pd.ExcelWriter(\"../data/\" + p + '.xlsx', engine='xlsxwriter')\n",
    "    for i in range(3):\n",
    "        df = data[p][i]\n",
    "        # 数值化\n",
    "        index = list(df.columns).index('地点')+1\n",
    "        df1 = df[df.columns[index:]]\n",
    "        # 异常值处理\n",
    "        df1 = df1.apply(pd.to_numeric, errors='coerce')\n",
    "        # 负值处理\n",
    "        num = df1._get_numeric_data()\n",
    "        num[num < 0] = np.nan\n",
    "        # 空值用中位数填充\n",
    "        df1 = df1.fillna(df.median(numeric_only=True))\n",
    "        df[df.columns[index:]] = df1\n",
    "        df.to_excel(writer, sheet_name=str(i))\n",
    "        \n",
    "    writer.save()\n",
    "for p in PLACES:\n",
    "    create_new_table_for_place(p)\n",
    "\n",
    "# create_new_table_for_place(PLACES[0])"
   ]
  },
  {
   "cell_type": "code",
   "execution_count": null,
   "metadata": {},
   "outputs": [],
   "source": [
    "df = pd.read_excel(\"../data/{}.xlsx\".format('A'), engine='openpyxl', sheet_name=None)\n",
    "df = df['1']\n",
    "df.isna().sum()"
   ]
  },
  {
   "cell_type": "code",
   "execution_count": null,
   "metadata": {},
   "outputs": [],
   "source": [
    "df.fillna(df.mean()).iloc[500]"
   ]
  },
  {
   "cell_type": "code",
   "execution_count": null,
   "metadata": {},
   "outputs": [],
   "source": [
    "df.iloc[500]"
   ]
  },
  {
   "cell_type": "code",
   "execution_count": null,
   "metadata": {},
   "outputs": [],
   "source": [
    "# 数值化\n",
    "index = list(df.columns).index('地点')+1\n",
    "df1 = df[df.columns[index+1:]]\n",
    "# 异常值处理\n",
    "df1 = df1.apply(pd.to_numeric, errors='coerce')\n",
    "# 负值处理\n",
    "num = df1._get_numeric_data()\n",
    "num[num < 0] = np.nan\n",
    "# 空值用中位数填充\n",
    "df1 = df1.fillna(df.median(numeric_only=True))\n",
    "df[df.columns[index+1:]] = df1"
   ]
  },
  {
   "cell_type": "code",
   "execution_count": null,
   "metadata": {},
   "outputs": [],
   "source": [
    "df.iloc[208]"
   ]
  },
  {
   "cell_type": "code",
   "execution_count": null,
   "metadata": {},
   "outputs": [],
   "source": [
    "df.columns[index:]"
   ]
  },
  {
   "cell_type": "markdown",
   "metadata": {},
   "source": [
    "## 预处理完分析"
   ]
  },
  {
   "cell_type": "code",
   "execution_count": null,
   "metadata": {},
   "outputs": [],
   "source": [
    "df = data['A'][1]\n",
    "index = list(data['A'][0].columns).index('地点')+1\n",
    "df1 = df[df.columns[index+1:]]\n",
    "# 异常值处理\n",
    "df1 = df1.apply(pd.to_numeric, errors='coerce')\n",
    "# 负值处理\n",
    "num = df1._get_numeric_data()\n",
    "num[num < 0] = np.nan\n",
    "# 空值用中位数填充\n",
    "df1 = df1.fillna(df.median(numeric_only=True))\n",
    "df[df.columns[index+1:]] = df1\n",
    "df.iloc[182]"
   ]
  },
  {
   "cell_type": "code",
   "execution_count": null,
   "metadata": {},
   "outputs": [],
   "source": [
    "type(data['A'][0].columns)"
   ]
  },
  {
   "cell_type": "code",
   "execution_count": null,
   "metadata": {},
   "outputs": [],
   "source": [
    "data['A'][0].columns"
   ]
  },
  {
   "cell_type": "code",
   "execution_count": null,
   "metadata": {},
   "outputs": [],
   "source": [
    "list(data['A'][0].columns).index('地点')"
   ]
  },
  {
   "cell_type": "code",
   "execution_count": null,
   "metadata": {},
   "outputs": [],
   "source": [
    "data['A'][0].columns.get_indexer_for"
   ]
  },
  {
   "cell_type": "code",
   "execution_count": null,
   "metadata": {},
   "outputs": [],
   "source": [
    "df.iloc[182]"
   ]
  },
  {
   "cell_type": "code",
   "execution_count": null,
   "metadata": {},
   "outputs": [],
   "source": [
    "df.apply(pd.to_numeric, errors='coerce')"
   ]
  },
  {
   "cell_type": "code",
   "execution_count": null,
   "metadata": {},
   "outputs": [],
   "source": [
    "df[\"SO2监测浓度(μg/m³)\"].isna().sum()"
   ]
  },
  {
   "cell_type": "markdown",
   "metadata": {},
   "source": [
    "## 预处理完分析"
   ]
  },
  {
   "cell_type": "code",
   "execution_count": null,
   "metadata": {},
   "outputs": [],
   "source": [
    "for p in PLACES:\n",
    "    df = pd.read_excel(\"../data/{}.xlsx\".format(p), engine='openpyxl', sheet_name=None)\n",
    "    for i in range(3):\n",
    "        num = df[str(i)]._get_numeric_data()\n",
    "        if (num<0).sum().sum() != 0:\n",
    "            print(p,i)"
   ]
  },
  {
   "cell_type": "code",
   "execution_count": null,
   "metadata": {},
   "outputs": [],
   "source": [
    "df = pd.read_excel(\"../data/{}.xlsx\".format('A'), engine='openpyxl', sheet_name=None)\n",
    "df = df['1']\n",
    "df.fillna(df.mean()).iloc[182]"
   ]
  },
  {
   "cell_type": "code",
   "execution_count": null,
   "metadata": {},
   "outputs": [],
   "source": [
    "df.iloc[182]"
   ]
  },
  {
   "cell_type": "code",
   "execution_count": null,
   "metadata": {},
   "outputs": [],
   "source": [
    "df"
   ]
  },
  {
   "cell_type": "code",
   "execution_count": null,
   "metadata": {},
   "outputs": [],
   "source": [
    "df['监测点A1逐日污染物浓度实测数据'] = df['监测点A1逐日污染物浓度实测数据'].fillna(df['监测点A1逐日污染物浓度实测数据'].mean())"
   ]
  },
  {
   "cell_type": "markdown",
   "metadata": {},
   "source": [
    "## 空值分析"
   ]
  },
  {
   "cell_type": "code",
   "execution_count": null,
   "metadata": {},
   "outputs": [],
   "source": [
    "def null_values_analysis(data):\n",
    "    NULL_COUNTS = {}\n",
    "    for p in PLACES:\n",
    "        for t in TYPES:  \n",
    "            if data[p][t].isnull().sum().sum():\n",
    "                NULL_COUNTS.update({p+\"_\"+str(t):data[p][t].isnull().sum()})\n",
    "    return NULL_COUNTS\n",
    "\n",
    "def null_values_analysis_plot(null_table):\n",
    "    fig, axs = plt.subplots(3, 3, figsize=FIGSIZE)\n",
    "    fig.tight_layout(h_pad=10)\n",
    "    fig.suptitle('空值分析', size=20)\n",
    "    \n",
    "    for i, (k,v) in enumerate(null_table.items()):\n",
    "        axs[i//3][i%3].bar(v.keys(), v, 0.35)\n",
    "        axs[i//3][i%3].set_title(k)\n",
    "        axs[i//3][i%3].set_xticklabels(labels=v.keys(),rotation=45)\n",
    "        axs[i//3][i%3].grid(True)\n",
    "\n",
    "    font = {'family': 'serif',\n",
    "            'color':  'darkred',\n",
    "            'weight': 'normal',\n",
    "            'size': 16,\n",
    "            }\n",
    "\n",
    "    plt.savefig(\"results/nan_value_analysis.\"+FORMAT, format=FORMAT)\n",
    "    plt.close()\n",
    "null_table = null_values_analysis(data)\n",
    "null_values_analysis_plot(null_table)"
   ]
  },
  {
   "cell_type": "markdown",
   "metadata": {},
   "source": [
    "# 数据分析\n",
    "下面首先对各量随时间的分布进行分析\n",
    "注意数字和子表格的对应：\n",
    "- 0 逐小时污染物浓度与气象一次预报数据\n",
    "- 1 逐小时污染物浓度与气象实测数据\n",
    "- 2 逐日污染物浓度实测数据\n",
    "\n",
    "## 0 对逐小时污染物浓度与气象一次预报数据的分析"
   ]
  },
  {
   "cell_type": "code",
   "execution_count": null,
   "metadata": {},
   "outputs": [],
   "source": [
    "key = data['A'][0].columns\n",
    "key, len(key[3:])"
   ]
  },
  {
   "cell_type": "code",
   "execution_count": null,
   "metadata": {},
   "outputs": [],
   "source": [
    "PREDICTED_KEYS = key[3:]\n",
    "print(\"预测天气状况\",PREDICTED_KEYS[:-6])\n",
    "print(\"预测污染因素\",PREDICTED_KEYS[-6:])"
   ]
  },
  {
   "cell_type": "code",
   "execution_count": null,
   "metadata": {},
   "outputs": [],
   "source": [
    "def plot_prediction_hist_by_time(place):\n",
    "    \"对逐小时污染物浓度与气象一次预报数据的分析\"\n",
    "    key = data[place][0].columns\n",
    "    PREDICTED_KEYS = key[3:]\n",
    "    fig, axes = plt.subplots(nrows=7, ncols=3, figsize=FIGSIZE)\n",
    "    fig.tight_layout(h_pad=3)\n",
    "    plt.suptitle(place+\"_0\", size=30)\n",
    "    \n",
    "    for i, k in enumerate(PREDICTED_KEYS):\n",
    "        data[place][0].plot.line(ax = axes[i//3][i%3], x = key[1] , y=k)\n",
    "    plt.savefig(\"results/{}_0逐小时污染物浓度与气象一次预报数据.{}\".format(place, FORMAT), format=FORMAT)\n",
    "    plt.close()\n",
    "\n",
    "\n",
    "for p in PLACES:\n",
    "    plot_prediction_hist_by_time(p)"
   ]
  },
  {
   "cell_type": "markdown",
   "metadata": {},
   "source": [
    "## 1 对逐小时污染物浓度与气象实测数据的分析"
   ]
  },
  {
   "cell_type": "code",
   "execution_count": null,
   "metadata": {},
   "outputs": [],
   "source": [
    "key = data['A'][1].columns\n",
    "key, len(key[2:])"
   ]
  },
  {
   "cell_type": "code",
   "execution_count": null,
   "metadata": {},
   "outputs": [],
   "source": [
    "MEASURED_KEYS = key[2:]\n",
    "print(\"测量天气状况\",MEASURED_KEYS[:6])\n",
    "print(\"测量污染因素\",MEASURED_KEYS[6:])"
   ]
  },
  {
   "cell_type": "code",
   "execution_count": null,
   "metadata": {},
   "outputs": [],
   "source": [
    "def plot_measured_hist_by_hour(place):\n",
    "    \"对逐小时污染物浓度与气象一次预报数据的分析\"\n",
    "    key = data[place][1].columns\n",
    "    MEASURED_KEYS = key[2:]\n",
    "    fig, axes = plt.subplots(nrows=4, ncols=3, figsize=FIGSIZE)\n",
    "    for i, k in enumerate(MEASURED_KEYS):\n",
    "        axes[i//3][i%3].set_xticks([])\n",
    "        # 预处理\n",
    "        data[place][1][k].fillna(0)\n",
    "        # 将object类型转为数值类型\n",
    "        data[place][1][k] = pd.to_numeric(data[place][1][k], errors='coerce')\n",
    "        data[place][1].plot.line(ax = axes[i//3][i%3], x = key[0] , y=k)\n",
    "    fig.tight_layout(h_pad=3)\n",
    "    plt.suptitle(place+\"_1\", size=30)\n",
    "    plt.savefig(\"results/{}_1逐小时污染物浓度与气象实测数据.{}\".format(place, FORMAT), format=FORMAT)\n",
    "    plt.close()\n",
    "    \n",
    "for p in PLACES:\n",
    "    plot_measured_hist_by_hour(p)"
   ]
  },
  {
   "cell_type": "markdown",
   "metadata": {},
   "source": [
    "## 2 对逐日污染物浓度实测数据的分析"
   ]
  },
  {
   "cell_type": "code",
   "execution_count": null,
   "metadata": {},
   "outputs": [],
   "source": [
    "key = data['A'][2].columns\n",
    "key, len(key[2:])"
   ]
  },
  {
   "cell_type": "code",
   "execution_count": null,
   "metadata": {},
   "outputs": [],
   "source": [
    "MEASURED_KEYS = key[2:]\n",
    "print(\"测量污染因素\",MEASURED_KEYS[:])"
   ]
  },
  {
   "cell_type": "code",
   "execution_count": null,
   "metadata": {},
   "outputs": [],
   "source": [
    "def plot_measured_polution_hist_by_day(place):\n",
    "    \"对逐小时污染物浓度与气象一次预报数据的分析\"\n",
    "    key = data[place][2].columns\n",
    "    MEASURED_KEYS = key[2:]\n",
    "    fig, axes = plt.subplots(nrows=2, ncols=3, figsize=FIGSIZE)\n",
    "    for i, k in enumerate(MEASURED_KEYS):\n",
    "        # 预处理\n",
    "        data[place][2][k].fillna(0)\n",
    "        # 将object类型转为数值类型\n",
    "        data[place][2][k] = pd.to_numeric(data[place][2][k], errors='coerce')\n",
    "        data[place][2].plot.line(ax = axes[i//3][i%3], x = key[0] , y=k)\n",
    "    fig.tight_layout(h_pad=3)\n",
    "    plt.suptitle(place+\"_2\", size=30)\n",
    "    plt.savefig(\"results/{}_2逐日污染物浓度实测数据.{}\".format(place, FORMAT), format=FORMAT)\n",
    "    plt.close()\n",
    "# 解锁运行  \n",
    "for p in PLACES:\n",
    "    plot_measured_polution_hist_by_day(p)"
   ]
  }
 ],
 "metadata": {
  "kernelspec": {
   "display_name": "common",
   "language": "python",
   "name": "common"
  },
  "language_info": {
   "codemirror_mode": {
    "name": "ipython",
    "version": 3
   },
   "file_extension": ".py",
   "mimetype": "text/x-python",
   "name": "python",
   "nbconvert_exporter": "python",
   "pygments_lexer": "ipython3",
   "version": "3.8.3"
  }
 },
 "nbformat": 4,
 "nbformat_minor": 4
}
