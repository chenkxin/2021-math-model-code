{
 "cells": [
  {
   "cell_type": "code",
   "execution_count": null,
   "metadata": {},
   "outputs": [],
   "source": [
    "import os\n",
    "# set working directory to root \n",
    "os.chdir('..')\n",
    "os.getcwd()"
   ]
  },
  {
   "cell_type": "code",
   "execution_count": null,
   "metadata": {},
   "outputs": [],
   "source": [
    "import pandas as pd, numpy as np\n",
    "from common.io import load, load_table\n",
    "from sklearn.preprocessing import OneHotEncoder"
   ]
  },
  {
   "cell_type": "code",
   "execution_count": null,
   "metadata": {},
   "outputs": [],
   "source": [
    "A = load_table(\"A\")"
   ]
  },
  {
   "cell_type": "markdown",
   "metadata": {},
   "source": [
    "# 1.时间特征\n",
    "\n",
    "## 1.1 连续时间\n",
    "\n",
    "持续时间：\n",
    "浏览时长；\n",
    "间隔时间：\n",
    "购买/点击距今时长；\n",
    "距离假期的前后时长（节假日前和节假日后可能会出现明显的数据波动）；\n",
    "## 1.2 离散时间\n",
    "\n",
    "年、季度、季节、月、星期、日、时 等；\n",
    "\n",
    "基本特征，如果用 Xgboost 模型可以进行 one-hot 编码；\n",
    "如果类别比较多，可以尝试平均数编码（Mean Encoding）。\n",
    "或者取 cos/sin 将数值的首位衔接起来，比如说 23 点与 0 点很近，星期一和星期天很近。\n",
    "节假日、节假日第 n 天、节假日前 n 天、节假日后 n 天；\n",
    "\n",
    "数据可能会随着节假日的持续而发生变化，比如说递减；\n",
    "节假日前/后可能会出现数据波动；\n",
    "不放假的人造节日如 5.20、6.18、11.11 等也需要考虑一下；\n",
    "一天的某个时间段；\n",
    "\n",
    "上午、中午、下午、傍晚、晚上、深夜、凌晨等；\n",
    "年初、年末、月初、月末、周内、周末；\n",
    "\n",
    "基本特征；\n",
    "高峰时段、是否上班、是否营业、是否双休日；\n",
    "\n",
    "主要根据业务场景进行挖掘。"
   ]
  },
  {
   "cell_type": "code",
   "execution_count": null,
   "metadata": {},
   "outputs": [],
   "source": [
    "# 构造时间特征\n",
    "def get_time_fe(data, col, n, one_hot=False, drop=True):\n",
    "    '''\n",
    "    data: DataFrame\n",
    "    col: column name\n",
    "    n: 时间周期\n",
    "    '''\n",
    "    data[col + '_sin'] = round(np.sin(2*np.pi / n * data[col]), 6)\n",
    "    data[col + '_cos'] = round(np.cos(2*np.pi / n * data[col]), 6)\n",
    "    if one_hot:\n",
    "        ohe = OneHotEncoder()\n",
    "        X = OneHotEncoder().fit_transform(data[col].values.reshape(-1, 1)).toarray()\n",
    "        df = pd.DataFrame(X, columns=[col + '_' + str(int(i)) for i in range(X.shape[1])])\n",
    "        data = pd.concat([data, df], axis=1)\n",
    "    if drop:\n",
    "        data = data.drop(col, axis=1)\n",
    "    return data\n",
    "data_df = A['1']\n",
    "\n",
    "# 年、季度、季节、月、星期、日、时  \n",
    "data_df['date'] = pd.to_datetime(data_df['监测时间'], format=\"%m/%d/%y\")\n",
    "data_df['quarter']=data_df['date'].dt.quarter\n",
    "data_df['month'] = data_df['date'].dt.month\n",
    "data_df['day'] = data_df['date'].dt.day\n",
    "data_df['dayofweek'] = data_df['date'].dt.dayofweek\n",
    "data_df['weekofyear'] = data_df['date'].dt.week   # 一年中的第几周\n",
    "\n",
    "# Series.dt 下有很多属性，可以去看一下是否有需要的。\n",
    "data_df['is_year_start'] = data_df['date'].dt.is_year_start\n",
    "data_df['is_year_end'] = data_df['date'].dt.is_year_end\n",
    "data_df['is_quarter_start'] = data_df['date'].dt.is_quarter_start\n",
    "data_df['is_quarter_end'] = data_df['date'].dt.is_quarter_end\n",
    "data_df['is_month_start'] = data_df['date'].dt.is_month_start\n",
    "data_df['is_month_end'] = data_df['date'].dt.is_month_end\n",
    "\n",
    "# data_df = get_time_fe(data_df, 'hour', n=24, one_hot=False, drop=False)\n",
    "data_df = get_time_fe(data_df, 'day', n=31, one_hot=False, drop=True)\n",
    "data_df = get_time_fe(data_df, 'dayofweek', n=7, one_hot=True, drop=True)\n",
    "# data_df = get_time_fe(data_df, 'season', n=4, one_hot=True, drop=True)\n",
    "data_df = get_time_fe(data_df, 'month', n=12, one_hot=True, drop=True)\n",
    "data_df = get_time_fe(data_df, 'weekofyear', n=53, one_hot=False, drop=True)\n"
   ]
  },
  {
   "cell_type": "code",
   "execution_count": null,
   "metadata": {},
   "outputs": [],
   "source": [
    "data_df.columns"
   ]
  },
  {
   "cell_type": "markdown",
   "metadata": {},
   "source": [
    "# 2. 聚合特征\n",
    "## 2.1 统计值\n",
    "基于历史数据构造长中短期的统计值，包括前 n 天/周期内的：\n",
    "\n",
    "四分位数；\n",
    "中位数、平均数、偏差；\n",
    "偏度、峰度；\n",
    "挖掘数据的偏离程度和集中程度；\n",
    "离散系数；\n",
    "挖掘离散程度\n",
    "这里可以用自相关系数（autocorrelation）挖掘出周期性。\n",
    "\n",
    "除了对数据进行统计外，也可以对节假日等进行统计，以刻画历史数据中所含节假日的情况。（还可以统计未来的节假日的情况。）"
   ]
  },
  {
   "cell_type": "code",
   "execution_count": null,
   "metadata": {},
   "outputs": [],
   "source": [
    "# 画出自相关性系数图\n",
    "from pandas.plotting import autocorrelation_plot\n",
    "# autocorrelation_plot(data['value'])\n",
    "\n",
    "# 构造过去 n 天的统计数据\n",
    "def get_statis_n_days_num(data, col, n):\n",
    "    temp = pd.DataFrame()\n",
    "    for i in range(n):\n",
    "        temp = pd.concat([temp, data[col].shift((i+1)*24)], axis=1)\n",
    "        data['avg_'+ str(n) +'_days_' + col] = temp.mean(axis=1)\n",
    "        data['median_'+ str(n) +'_days_' + col] = temp.median(axis=1)\n",
    "        data['max_'+ str(n) +'_days_' + col] = temp.max(axis=1)\n",
    "        data['min_'+ str(n) +'_days_' + col] = temp.min(axis=1)\n",
    "        data['std_'+ str(n) +'_days_' + col] = temp.std(axis=1)\n",
    "        data['mad_'+ str(n) +'_days_' + col] = temp.mad(axis=1)\n",
    "        data['skew_'+ str(n) +'_days_' + col] = temp.skew(axis=1)\n",
    "        data['kurt_'+ str(n) +'_days_' + col] = temp.kurt(axis=1)\n",
    "        data['q1_'+ str(n) +'_days_' + col] = temp.quantile(q=0.25, axis=1)\n",
    "        data['q3_'+ str(n) +'_days_' + col] = temp.quantile(q=0.75, axis=1)\n",
    "        data['var_'+ str(n) +'_days_' + col] = data['std_'+ str(n) +'_days_' + col]/data['avg_'+ str(n) +'_days_' + col]  # 离散系数\n",
    "    return data\n",
    "\n",
    "data_df = get_statis_n_days_num(data_df, 'SO2监测浓度(μg/m³)', n=7)\n",
    "data_df = get_statis_n_days_num(data_df, 'SO2监测浓度(μg/m³)', n=14)\n",
    "data_df = get_statis_n_days_num(data_df, 'SO2监测浓度(μg/m³)', n=21)\n",
    "data_df = get_statis_n_days_num(data_df, 'SO2监测浓度(μg/m³)', n=28)"
   ]
  },
  {
   "cell_type": "code",
   "execution_count": null,
   "metadata": {},
   "outputs": [],
   "source": [
    "autocorrelation_plot(data_df['SO2监测浓度(μg/m³)'])"
   ]
  },
  {
   "cell_type": "code",
   "execution_count": null,
   "metadata": {},
   "outputs": [],
   "source": [
    "y = [\n",
    "    'q1_'+ str(7) +'_days_SO2监测浓度(μg/m³)',\n",
    "    'q3_'+ str(7) +'_days_SO2监测浓度(μg/m³)',\n",
    "]\n",
    "selector = data_df['date'] > '2021-06-13'\n",
    "data_df[selector].plot(x='date', y=y, title=None, figsize=(15,8))"
   ]
  },
  {
   "cell_type": "code",
   "execution_count": null,
   "metadata": {},
   "outputs": [],
   "source": [
    "# 过去时间段监测浓度均值\n",
    "y = [\n",
    "    'avg_'+ str(i) +'_days_SO2监测浓度(μg/m³)' for i in [7, 14, 21, 28]\n",
    "]\n",
    "selector = data_df['date'] > '2021-06-13'\n",
    "data_df[selector].plot(x='date', y=y, title='过去时间段监测SO2监测浓度均值', figsize=(15,8))"
   ]
  },
  {
   "cell_type": "code",
   "execution_count": null,
   "metadata": {},
   "outputs": [],
   "source": [
    "y = [\n",
    "    'var_'+ str(i) +'_days_SO2监测浓度(μg/m³)' for i in [7, 14, 21, 28]\n",
    "]\n",
    "selector = data_df['date'] > '2021-06-13'\n",
    "data_df[selector].plot(x='date', y=y, title='过去时间段监测SO2监测浓度方差', figsize=(15,8))"
   ]
  },
  {
   "cell_type": "markdown",
   "metadata": {},
   "source": [
    "## 2.2 同期值\n",
    "前 n 个周期/天/月/年的同期值；"
   ]
  },
  {
   "cell_type": "code",
   "execution_count": null,
   "metadata": {},
   "outputs": [],
   "source": [
    "# n 个星期前同期特征\n",
    "data_df['ago_7_day_SO2监测浓度(μg/m³)'] = data_df['SO2监测浓度(μg/m³)'].shift(7*24)\n",
    "data_df['ago_14_day_SO2监测浓度(μg/m³)'] = data_df['SO2监测浓度(μg/m³)'].shift(14*24)\n",
    "data_df['ago_21_day_SO2监测浓度(μg/m³)'] = data_df['SO2监测浓度(μg/m³)'].shift(21*24)\n",
    "data_df['ago_28_day_SO2监测浓度(μg/m³)'] = data_df['SO2监测浓度(μg/m³)'].shift(28*24)\n",
    "\n",
    "# # 昨天的同期特征\n",
    "data_df['ago_1_day_SO2监测浓度(μg/m³)'] = data_df['SO2监测浓度(μg/m³)'].shift(1*24)"
   ]
  },
  {
   "cell_type": "code",
   "execution_count": null,
   "metadata": {},
   "outputs": [],
   "source": [
    "y = [\n",
    "    'SO2监测浓度(μg/m³)',\n",
    "    'ago_1_day_SO2监测浓度(μg/m³)',\n",
    "    'ago_7_day_SO2监测浓度(μg/m³)',\n",
    "    'ago_14_day_SO2监测浓度(μg/m³)',\n",
    "    'ago_21_day_SO2监测浓度(μg/m³)',\n",
    "    'ago_28_day_SO2监测浓度(μg/m³)'\n",
    "]\n",
    "selector = data_df['date'] > '2021-06-13'\n",
    "data_df[selector].plot(x='date', y=y, title=None, figsize=(15,8))"
   ]
  },
  {
   "cell_type": "markdown",
   "metadata": {},
   "source": [
    "# 3.交叉特征\n",
    "\n",
    "类别特征间组合构成新特征：\n",
    "\n",
    "笛卡尔积，比如星期和小时：Mon_10（星期一的十点）；\n",
    "\n",
    "类别特征和连续特征：\n",
    "\n",
    "连续特征分桶后进行笛卡尔积；\n",
    "\n",
    "基于类别特征进行 groupby 操作，类似聚合特征的构造；\n",
    "\n",
    "连续特征和连续特征：\n",
    "\n",
    "同比和环比（一阶差分）：反应同期或上一个统计时段的变换大小；\n",
    "\n",
    "二阶差分：反应变化趋势；\n",
    "\n",
    "比值；\n",
    "特征交叉一般从重要特征线下手，慢工出细活。"
   ]
  },
  {
   "cell_type": "code",
   "execution_count": null,
   "metadata": {},
   "outputs": [],
   "source": [
    "# 一阶差分\n",
    "data_df['ago_28_21_day_SO2监测浓度(μg/m³)_trend'] = data_df['ago_28_day_SO2监测浓度(μg/m³)'] - data_df['ago_21_day_SO2监测浓度(μg/m³)']\n",
    "data_df['ago_21_14_day_SO2监测浓度(μg/m³)_trend'] = data_df['ago_21_day_SO2监测浓度(μg/m³)'] - data_df['ago_14_day_SO2监测浓度(μg/m³)']\n",
    "data_df['ago_14_7_day_SO2监测浓度(μg/m³)_trend'] = data_df['ago_14_day_SO2监测浓度(μg/m³)'] - data_df['ago_7_day_SO2监测浓度(μg/m³)']\n",
    "data_df['ago_7_1_day_SO2监测浓度(μg/m³)_trend'] = data_df['ago_7_day_SO2监测浓度(μg/m³)'] - data_df['ago_1_day_SO2监测浓度(μg/m³)']"
   ]
  },
  {
   "cell_type": "code",
   "execution_count": null,
   "metadata": {},
   "outputs": [],
   "source": [
    "y = [\n",
    "    'ago_28_21_day_SO2监测浓度(μg/m³)_trend',\n",
    "    'ago_21_14_day_SO2监测浓度(μg/m³)_trend',\n",
    "    'ago_14_7_day_SO2监测浓度(μg/m³)_trend',\n",
    "    'ago_7_1_day_SO2监测浓度(μg/m³)_trend'\n",
    "]\n",
    "selector = data_df['date'] > '2021-06-13'\n",
    "data_df[selector].plot(x='date', y=y, title=None, figsize=(15,8))"
   ]
  },
  {
   "cell_type": "markdown",
   "metadata": {},
   "source": [
    "# Thanks\n",
    "1. 【时间序列】时序特征挖掘的奇技淫巧，阿泽，https://mp.weixin.qq.com/s/j-TBNSSCafeqE8qkfeF9qw"
   ]
  }
 ],
 "metadata": {
  "kernelspec": {
   "display_name": "common",
   "language": "python",
   "name": "common"
  },
  "language_info": {
   "codemirror_mode": {
    "name": "ipython",
    "version": 3
   },
   "file_extension": ".py",
   "mimetype": "text/x-python",
   "name": "python",
   "nbconvert_exporter": "python",
   "pygments_lexer": "ipython3",
   "version": "3.8.3"
  }
 },
 "nbformat": 4,
 "nbformat_minor": 4
}
