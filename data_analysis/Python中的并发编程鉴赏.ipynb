{
 "cells": [
  {
   "cell_type": "code",
   "execution_count": 3,
   "id": "cd1b1ea0-9b79-46b5-9550-409cc536b4a1",
   "metadata": {},
   "outputs": [
    {
     "data": {
      "text/plain": [
       "'/home/qiangzibro/2021-math-model-code'"
      ]
     },
     "execution_count": 3,
     "metadata": {},
     "output_type": "execute_result"
    }
   ],
   "source": [
    "import os\n",
    "# set working directory to root \n",
    "os.chdir('/home/qiangzibro/2021-math-model-code')\n",
    "os.getcwd()"
   ]
  },
  {
   "cell_type": "markdown",
   "id": "7f0282ea-bd6d-4b0d-8f1c-05e398335854",
   "metadata": {
    "jp-MarkdownHeadingCollapsed": true,
    "tags": []
   },
   "source": [
    "## Python中的并发编程鉴赏\n",
    "数学建模期间频繁用Pandas加载多个表格，直到最后一天才发现原本写的并发编程\n",
    "速度并不“并发”，借着这个机会来学习一下多线程、多进程的编程。\n",
    "\n",
    "首先，我们写一个计时器的装饰器"
   ]
  },
  {
   "cell_type": "code",
   "execution_count": 9,
   "id": "5b5e1605-44eb-464e-af8f-2e0913ba5e15",
   "metadata": {},
   "outputs": [],
   "source": [
    "def cal_time(func):\n",
    "    def inner(*args, **kargs):\n",
    "        start = time.time()\n",
    "        result = func(*args, **kargs)\n",
    "        end = time.time()\n",
    "        print(f\"{round(end-start, 2)}s passed\")\n",
    "        return result\n",
    "    return inner\n",
    "\n",
    "table_files = \"\"\"data/附件1 监测点A空气质量预报基础数据.xlsx\n",
    "data/附件2 监测点B、C空气质量预报基础数据.xlsx\n",
    "data/附件3 监测点A1、A2、A3空气质量预报基础数据.xlsx\"\"\".split(\"\\n\")"
   ]
  },
  {
   "cell_type": "code",
   "execution_count": 10,
   "id": "dd65c8c2-bb4a-4a2e-8763-1d615b913791",
   "metadata": {},
   "outputs": [
    {
     "name": "stdout",
     "output_type": "stream",
     "text": [
      "60.64s passed\n"
     ]
    }
   ],
   "source": [
    "import time\n",
    "import pandas as pd\n",
    "@cal_time\n",
    "def load_using_single_thread():\n",
    "    return  {\n",
    "        f\"附件{i}\":pd.read_excel(table_files[i-1],\n",
    "                               engine='openpyxl',\n",
    "                               sheet_name=None) \n",
    "            for i in range(1,4)\n",
    "    }\n",
    "\n",
    "df = load_using_single_thread()"
   ]
  },
  {
   "cell_type": "markdown",
   "id": "187dfc41-75f4-4524-9b44-1f6a62473749",
   "metadata": {},
   "source": [
    "加载需要60秒左右，理论上这是最长时间。下面来进行加速。\n",
    "首先想到了Python中的Thread"
   ]
  },
  {
   "cell_type": "code",
   "execution_count": 23,
   "id": "796276c4-a36f-4068-a23e-d3484b7ddf98",
   "metadata": {},
   "outputs": [
    {
     "name": "stdout",
     "output_type": "stream",
     "text": [
      "47.24s passed\n"
     ]
    }
   ],
   "source": [
    "from threading import Thread\n",
    "\n",
    "@cal_time\n",
    "def load_using_threading():\n",
    "    results = {f\"附件{i}\":None for i in range(1,4)}\n",
    "    \n",
    "    def _load(file, i):\n",
    "        results[f\"附件{i}\"] = pd.read_excel(table_files[i-1],\n",
    "                           engine='openpyxl',\n",
    "                           sheet_name=None) \n",
    "    \n",
    "    threads = []\n",
    "    for i, file in enumerate(table_files):\n",
    "        threads.append(Thread(target=pd.read_excel, args=(file, i)))\n",
    "    for t in threads:\n",
    "        t.start()\n",
    "    for t in threads:\n",
    "        t.join()\n",
    "    return df\n",
    "\n",
    "data_df = load_using_threading()"
   ]
  },
  {
   "cell_type": "markdown",
   "id": "918e9ee2-3ceb-4bbf-924b-2a988b0d65da",
   "metadata": {},
   "source": [
    "我们还可以使用Python的线程池来实现"
   ]
  },
  {
   "cell_type": "code",
   "execution_count": 30,
   "id": "436a6de5-f0de-4f66-8811-a9b0ff882cf8",
   "metadata": {},
   "outputs": [
    {
     "name": "stdout",
     "output_type": "stream",
     "text": [
      "154.58s passed\n"
     ]
    }
   ],
   "source": [
    "import concurrent\n",
    "\n",
    "@cal_time\n",
    "def load_df_threading():\n",
    "    results = {f\"附件{i}\":None for i in range(1,4)}\n",
    "    \n",
    "    def _load(i):\n",
    "        return pd.read_excel(table_files[i-1],\n",
    "                           engine='openpyxl',\n",
    "                           sheet_name=None) \n",
    "    \n",
    "    with concurrent.futures.ThreadPoolExecutor(max_workers=3) as executor:\n",
    "        futures = {executor.submit(_load, i): f\"附件{i}\" for i in range(1,4)}\n",
    "        for future in concurrent.futures.as_completed(futures):\n",
    "            p = futures[future]\n",
    "            try:\n",
    "                results[p] = future.result()\n",
    "            except Exception as exc:\n",
    "                print(exc)\n",
    "    return results\n",
    "\n",
    "data_df = load_df_threading()"
   ]
  },
  {
   "cell_type": "markdown",
   "id": "549cb5a8-286b-4844-a955-202bd0c39fb7",
   "metadata": {},
   "source": [
    "惊人的154秒，比单线程方法还要长了三倍！真是低并发编程！但是，这是为什么呢？"
   ]
  },
  {
   "cell_type": "code",
   "execution_count": 36,
   "id": "d8284216-1fe7-42b3-92bf-231c72b4bd14",
   "metadata": {},
   "outputs": [
    {
     "name": "stdout",
     "output_type": "stream",
     "text": [
      "31.84s passed\n"
     ]
    }
   ],
   "source": [
    "import concurrent\n",
    "def _load(i):\n",
    "    return pd.read_excel(table_files[i-1],\n",
    "                       engine='openpyxl',\n",
    "                       sheet_name=None) \n",
    "@cal_time\n",
    "def load_using_process():\n",
    "    df = {f\"附件{i}\":None for i in range(1,4)}\n",
    "\n",
    "    with concurrent.futures.ProcessPoolExecutor(max_workers=3) as executor:\n",
    "        for i, result in zip(range(1,4), executor.map(_load, range(1,4))):\n",
    "            p = f\"附件{i}\"\n",
    "            df[p] = result\n",
    "    return df\n",
    "                             \n",
    "data_df = load_using_process()"
   ]
  },
  {
   "cell_type": "code",
   "execution_count": null,
   "id": "d38e8c2c-de29-4a75-8913-99f9a8dc626e",
   "metadata": {},
   "outputs": [],
   "source": []
  }
 ],
 "metadata": {
  "kernelspec": {
   "display_name": "Python 3 (ipykernel)",
   "language": "python",
   "name": "python3"
  },
  "language_info": {
   "codemirror_mode": {
    "name": "ipython",
    "version": 3
   },
   "file_extension": ".py",
   "mimetype": "text/x-python",
   "name": "python",
   "nbconvert_exporter": "python",
   "pygments_lexer": "ipython3",
   "version": "3.7.7"
  }
 },
 "nbformat": 4,
 "nbformat_minor": 5
}
