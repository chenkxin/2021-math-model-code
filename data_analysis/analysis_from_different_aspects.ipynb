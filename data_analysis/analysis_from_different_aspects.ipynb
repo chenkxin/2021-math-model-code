{
 "cells": [
  {
   "cell_type": "code",
   "execution_count": 16,
   "metadata": {},
   "outputs": [],
   "source": [
    "# data analysis and wrangling\n",
    "import pandas as pd\n",
    "import numpy as np\n",
    "import random as rnd\n",
    "\n",
    "# visualization\n",
    "import seaborn as sns\n",
    "import matplotlib.pyplot as plt\n",
    "\n",
    "plt.style.use('ggplot')\n",
    "# MacOS上画图中文乱码的问题\n",
    "# https://blog.csdn.net/minixuezhen/article/details/81516949?utm_medium=distribute.pc_relevant.none-task-blog-\n",
    "plt.rcParams['font.sans-serif'] = ['Arial Unicode MS']\n",
    "\n",
    "%matplotlib inline\n",
    "\n",
    "import sys\n",
    "import os\n",
    "\n",
    "from pprint import pprint"
   ]
  },
  {
   "cell_type": "code",
   "execution_count": 17,
   "metadata": {},
   "outputs": [],
   "source": [
    "def load_data():\n",
    "    table_files = \"\"\"data/附件1 监测点A空气质量预报基础数据.xlsx\n",
    "data/附件2 监测点B、C空气质量预报基础数据.xlsx\n",
    "data/附件3 监测点A1、A2、A3空气质量预报基础数据.xlsx\"\"\".split(\"\\n\")\n",
    "    tables = [pd.read_excel(\"../\"+i, engine='openpyxl', sheet_name=None) for i in table_files] # 表格全读取\n",
    "    keys = [list(i.keys()) for i in tables] # 每个表格的sheet list\n",
    "    return tables, keys\n",
    "tables, keys = load_data()"
   ]
  },
  {
   "cell_type": "code",
   "execution_count": 58,
   "metadata": {},
   "outputs": [],
   "source": [
    "class WeatherData(object):\n",
    "    def __init__(self, tables):\n",
    "        # 每个表有若干个sheet name\n",
    "        self.tables = tables\n",
    "        self.keys = [list(i.keys()) for i in tables]\n",
    "        \n",
    "        ## 属性表\n",
    "        # 逐小时污染物浓度与气象一次预报\n",
    "        self.columns_prediction_by_hour = list(self.get_data(0, 0).columns)\n",
    "        # 逐小时污染物浓度与气象实测\n",
    "        self.columns_polution_weather_by_hour = list(self.get_data(0, 1).columns)\n",
    "        # 逐日污染物浓度实测\n",
    "        self.columns_polution_by_day = list(self.get_data(0, 2).columns)\n",
    "        \n",
    "    def get_data(self, table_id, sheet_id):\n",
    "        return self.tables[table_id][self.keys[table_id][sheet_id]]\n",
    "    \n",
    "    def analysis_info(self, table_id):\n",
    "        for i in range(len(self.keys[table_id])):\n",
    "            print(self.keys[table_id][i])\n",
    "            print(self.get_data(table_id, i).info())\n",
    "    def analysis_columns(self, table_id):\n",
    "        for i in range(len(self.keys[table_id])):\n",
    "            print(self.keys[table_id][i])\n",
    "            print(list(self.get_data(table_id, i).columns))   \n",
    "    \n",
    "data = WeatherData(tables)\n",
    "# pprint(data.columns_prediction_by_hour)\n",
    "# pprint(data.columns_polution_weather_by_hour)\n",
    "# pprint(data.columns_polution_by_day)"
   ]
  },
  {
   "cell_type": "markdown",
   "metadata": {},
   "source": [
    "## 分析数值分布"
   ]
  },
  {
   "cell_type": "code",
   "execution_count": 59,
   "metadata": {},
   "outputs": [],
   "source": [
    "polution_factors = ['SO2监测浓度(μg/m³)', 'NO2监测浓度(μg/m³)', 'PM10监测浓度(μg/m³)', 'PM2.5监测浓度(μg/m³)', 'O3监测浓度(μg/m³)', 'CO监测浓度(mg/m³)']\n",
    "weather_factors = ['温度(℃)', '湿度(%)', '气压(MBar)', '风速(m/s)', '风向(°)']\n",
    "\n",
    "df = data.get_data(0,1)\n",
    "# 分析污染物随着时间的变化\n",
    "# for pf in polution_factors:\n",
    "#     df[pf] = pd.to_numeric(df[pf], errors='coerce')\n",
    "#     df.plot.line(x='监测时间', y=pf, figsize=(10,8 ))"
   ]
  }
 ],
 "metadata": {
  "kernelspec": {
   "display_name": "common",
   "language": "python",
   "name": "common"
  },
  "language_info": {
   "codemirror_mode": {
    "name": "ipython",
    "version": 3
   },
   "file_extension": ".py",
   "mimetype": "text/x-python",
   "name": "python",
   "nbconvert_exporter": "python",
   "pygments_lexer": "ipython3",
   "version": "3.8.3"
  }
 },
 "nbformat": 4,
 "nbformat_minor": 4
}
