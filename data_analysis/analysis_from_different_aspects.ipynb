{
 "cells": [
  {
   "cell_type": "code",
   "execution_count": 16,
   "metadata": {},
   "outputs": [],
   "source": [
    "# data analysis and wrangling\n",
    "import pandas as pd\n",
    "import numpy as np\n",
    "import random as rnd\n",
    "\n",
    "# visualization\n",
    "import seaborn as sns\n",
    "import matplotlib.pyplot as plt\n",
    "\n",
    "plt.style.use('ggplot')\n",
    "# MacOS上画图中文乱码的问题\n",
    "# https://blog.csdn.net/minixuezhen/article/details/81516949?utm_medium=distribute.pc_relevant.none-task-blog-\n",
    "plt.rcParams['font.sans-serif'] = ['Arial Unicode MS']\n",
    "\n",
    "%matplotlib inline\n",
    "\n",
    "import sys\n",
    "import os\n",
    "\n",
    "from pprint import pprint"
   ]
  },
  {
   "cell_type": "code",
   "execution_count": 84,
   "metadata": {},
   "outputs": [],
   "source": [
    "PLACES = ['A', 'B', 'C', 'A1', 'A2', 'A3']\n",
    "TYPES = [0, 1, 2]\n",
    "def _load_data():\n",
    "    table_files = \"\"\"data/附件1 监测点A空气质量预报基础数据.xlsx\n",
    "data/附件2 监测点B、C空气质量预报基础数据.xlsx\n",
    "data/附件3 监测点A1、A2、A3空气质量预报基础数据.xlsx\"\"\".split(\"\\n\")\n",
    "    tables = [pd.read_excel(\"../\"+i, engine='openpyxl', sheet_name=None) for i in table_files] # 表格全读取\n",
    "    keys = [list(i.keys()) for i in tables] # 每个表格的sheet list\n",
    "    return tables, keys\n",
    "\n",
    "def _process_to_json(tables):\n",
    "    sheetnames = {0:'监测点{}逐小时污染物浓度与气象一次预报数据', 1:'监测点{}逐小时污染物浓度与气象实测数据', 2:'监测点{}逐日污染物浓度实测数据'}\n",
    "    result = {i:{} for i in PLACES}\n",
    "    \n",
    "    for k,v in sheetnames.items():\n",
    "        tables[0][v.format('A')].name = v.format('A')\n",
    "        result['A'][k] = tables[0][v.format('A')]\n",
    "    for c in ['B', 'C']:\n",
    "        for k,v in sheetnames.items():\n",
    "            tables[1][v.format(c)].name = v.format(c)\n",
    "            result[c][k] = tables[1][v.format(c)]\n",
    "    for c in ['A1', 'A2', 'A3']:\n",
    "        for k,v in sheetnames.items():\n",
    "            tables[2][v.format(c)].name = v.format(c)\n",
    "            result[c][k] = tables[2][v.format(c)]\n",
    "    return result\n",
    "\n",
    "def load(): \n",
    "    tables, keys = _load_data()\n",
    "    return _process_to_json(tables)\n",
    "\n",
    "data = load()"
   ]
  },
  {
   "cell_type": "code",
   "execution_count": 87,
   "metadata": {},
   "outputs": [
    {
     "name": "stdout",
     "output_type": "stream",
     "text": [
      "dict_keys(['A', 'B', 'C', 'A1', 'A2', 'A3'])\n",
      "dict_keys([0, 1, 2])\n"
     ]
    }
   ],
   "source": [
    "print(data.keys())\n",
    "print(data['A'].keys())\n",
    "# for p in PLACES:\n",
    "#     for i in range(3): \n",
    "#         print(data[p][i].info())"
   ]
  },
  {
   "cell_type": "code",
   "execution_count": 167,
   "metadata": {},
   "outputs": [],
   "source": [
    "def null_values_analysis(data):\n",
    "    NULL_COUNTS = {}\n",
    "    for p in PLACES:\n",
    "        for t in TYPES:  \n",
    "            if data[p][t].isnull().sum().sum():\n",
    "                NULL_COUNTS.update({p+\"_\"+str(t):data[p][t].isnull().sum()})\n",
    "    return NULL_COUNTS\n",
    "\n",
    "def null_values_analysis_plot(null_table):\n",
    "    fig, axs = plt.subplots(3, 3, figsize=(25,16))\n",
    "    fig.tight_layout(h_pad=10)\n",
    "    for i, (k,v) in enumerate(null_table.items()):\n",
    "        axs[i//3][i%3].bar(v.keys(), v, 0.35)\n",
    "        axs[i//3][i%3].set_title(k)\n",
    "        axs[i//3][i%3].set_xticklabels(labels=v.keys(),rotation=45)\n",
    "        axs[i//3][i%3].grid(True)\n",
    "\n",
    "    font = {'family': 'serif',\n",
    "            'color':  'darkred',\n",
    "            'weight': 'normal',\n",
    "            'size': 16,\n",
    "            }\n",
    "    fig.suptitle('空值分析', size=20)\n",
    "    plt.savefig(\"results/nan_value_analysis.jpg\")\n",
    "    \n",
    "null_table = (null_values_analysis(data))\n",
    "# null_values_analysis_plot(null_table)"
   ]
  },
  {
   "cell_type": "code",
   "execution_count": null,
   "metadata": {},
   "outputs": [],
   "source": []
  }
 ],
 "metadata": {
  "kernelspec": {
   "display_name": "common",
   "language": "python",
   "name": "common"
  },
  "language_info": {
   "codemirror_mode": {
    "name": "ipython",
    "version": 3
   },
   "file_extension": ".py",
   "mimetype": "text/x-python",
   "name": "python",
   "nbconvert_exporter": "python",
   "pygments_lexer": "ipython3",
   "version": "3.8.3"
  }
 },
 "nbformat": 4,
 "nbformat_minor": 4
}
