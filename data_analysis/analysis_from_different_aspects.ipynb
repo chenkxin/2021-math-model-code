{
 "cells": [
  {
   "cell_type": "code",
   "execution_count": 114,
   "metadata": {},
   "outputs": [],
   "source": [
    "# Author: QiangZiBro\n",
    "# Time: 2021-10-14\n",
    "# Contact: Github/QiangZiBro\n",
    "\n",
    "# data analysis and wrangling\n",
    "import pandas as pd\n",
    "import numpy as np\n",
    "import random as rnd\n",
    "\n",
    "# visualization\n",
    "import seaborn as sns\n",
    "import matplotlib.pyplot as plt\n",
    "\n",
    "plt.style.use('ggplot')\n",
    "# MacOS上画图中文乱码的问题\n",
    "# https://blog.csdn.net/minixuezhen/article/details/81516949?utm_medium=distribute.pc_relevant.none-task-blog-\n",
    "plt.rcParams['font.sans-serif'] = ['Arial Unicode MS']\n",
    "\n",
    "# %matplotlib inline\n",
    "\n",
    "import sys\n",
    "import os\n",
    "\n",
    "from pprint import pprint\n",
    "\n",
    "if not os.path.exists(\"results\"):\n",
    "    os.mkdir(\"results\")\n",
    "    \n",
    "FIGSIZE = (30, 25)\n",
    "FORMAT = \"jpg\""
   ]
  },
  {
   "cell_type": "markdown",
   "metadata": {},
   "source": [
    "## 数据加载工具"
   ]
  },
  {
   "cell_type": "code",
   "execution_count": 179,
   "metadata": {},
   "outputs": [],
   "source": [
    "PLACES = ['A', 'B', 'C', 'A1', 'A2', 'A3']\n",
    "TYPES = [0, 1, 2]\n",
    "def _load_data():\n",
    "    table_files = \"\"\"data/附件1 监测点A空气质量预报基础数据.xlsx\n",
    "data/附件2 监测点B、C空气质量预报基础数据.xlsx\n",
    "data/附件3 监测点A1、A2、A3空气质量预报基础数据.xlsx\"\"\".split(\"\\n\")\n",
    "    tables = [pd.read_excel(\"../\"+i, engine='openpyxl', sheet_name=None) for i in table_files] # 表格全读取\n",
    "    keys = [list(i.keys()) for i in tables] # 每个表格的sheet list\n",
    "    return tables, keys\n",
    "\n",
    "def _process_to_json(tables):\n",
    "    sheetnames = {0:'监测点{}逐小时污染物浓度与气象一次预报数据', 1:'监测点{}逐小时污染物浓度与气象实测数据', 2:'监测点{}逐日污染物浓度实测数据'}\n",
    "    result = {i:{} for i in PLACES}\n",
    "    \n",
    "    for k,v in sheetnames.items():\n",
    "        tables[0][v.format('A')].name = v.format('A')\n",
    "        result['A'][k] = tables[0][v.format('A')]\n",
    "    for c in ['B', 'C']:\n",
    "        for k,v in sheetnames.items():\n",
    "            tables[1][v.format(c)].name = v.format(c)\n",
    "            result[c][k] = tables[1][v.format(c)]\n",
    "    for c in ['A1', 'A2', 'A3']:\n",
    "        for k,v in sheetnames.items():\n",
    "            tables[2][v.format(c)].name = v.format(c)\n",
    "            result[c][k] = tables[2][v.format(c)]\n",
    "    return result\n",
    "\n",
    "def load(): \n",
    "    \"\"\"得到一个Json格式的数据项\n",
    "    \n",
    "    Return:\n",
    "        {\n",
    "            \"A\":{\n",
    "                \"0\":DataFrame,\n",
    "                \"1\":DataFrame,\n",
    "                \"2\":DataFrame,\n",
    "            }\n",
    "            ...\n",
    "        }\n",
    "    \"\"\"\n",
    "    \n",
    "    tables, keys = _load_data()\n",
    "    return _process_to_json(tables)\n",
    "\n",
    "data = load()"
   ]
  },
  {
   "cell_type": "code",
   "execution_count": 180,
   "metadata": {},
   "outputs": [
    {
     "name": "stdout",
     "output_type": "stream",
     "text": [
      "dict_keys(['A', 'B', 'C', 'A1', 'A2', 'A3'])\n",
      "dict_keys([0, 1, 2])\n"
     ]
    }
   ],
   "source": [
    "print(data.keys())\n",
    "print(data['A'].keys())\n",
    "# for p in PLACES:\n",
    "#     for i in range(3): \n",
    "#         print(data[p][i].min())"
   ]
  },
  {
   "cell_type": "code",
   "execution_count": 157,
   "metadata": {},
   "outputs": [
    {
     "data": {
      "text/plain": [
       "监测时间                  0\n",
       "地点                    0\n",
       "SO2监测浓度(μg/m³)      248\n",
       "NO2监测浓度(μg/m³)      275\n",
       "PM10监测浓度(μg/m³)     285\n",
       "PM2.5监测浓度(μg/m³)    276\n",
       "O3监测浓度(μg/m³)       203\n",
       "CO监测浓度(mg/m³)       270\n",
       "温度(℃)                56\n",
       "湿度(%)                56\n",
       "气压(MBar)             56\n",
       "近地风速(m/s)            56\n",
       "风向(°)                56\n",
       "dtype: int64"
      ]
     },
     "execution_count": 157,
     "metadata": {},
     "output_type": "execute_result"
    }
   ],
   "source": [
    "df = data['B'][1]\n",
    "df.isna().sum()"
   ]
  },
  {
   "cell_type": "code",
   "execution_count": 181,
   "metadata": {},
   "outputs": [
    {
     "data": {
      "text/html": [
       "<div>\n",
       "<style scoped>\n",
       "    .dataframe tbody tr th:only-of-type {\n",
       "        vertical-align: middle;\n",
       "    }\n",
       "\n",
       "    .dataframe tbody tr th {\n",
       "        vertical-align: top;\n",
       "    }\n",
       "\n",
       "    .dataframe thead th {\n",
       "        text-align: right;\n",
       "    }\n",
       "</style>\n",
       "<table border=\"1\" class=\"dataframe\">\n",
       "  <thead>\n",
       "    <tr style=\"text-align: right;\">\n",
       "      <th></th>\n",
       "      <th>SO2监测浓度(μg/m³)</th>\n",
       "      <th>NO2监测浓度(μg/m³)</th>\n",
       "      <th>PM10监测浓度(μg/m³)</th>\n",
       "      <th>PM2.5监测浓度(μg/m³)</th>\n",
       "      <th>O3监测浓度(μg/m³)</th>\n",
       "      <th>CO监测浓度(mg/m³)</th>\n",
       "      <th>温度(℃)</th>\n",
       "      <th>湿度(%)</th>\n",
       "      <th>气压(MBar)</th>\n",
       "      <th>近地风速(m/s)</th>\n",
       "      <th>风向(°)</th>\n",
       "    </tr>\n",
       "  </thead>\n",
       "  <tbody>\n",
       "    <tr>\n",
       "      <th>0</th>\n",
       "      <td>5.0</td>\n",
       "      <td>29.0</td>\n",
       "      <td>60.0</td>\n",
       "      <td>25.0</td>\n",
       "      <td>116.0</td>\n",
       "      <td>0.5</td>\n",
       "      <td>20.9</td>\n",
       "      <td>84.0</td>\n",
       "      <td>1014.7</td>\n",
       "      <td>2.0</td>\n",
       "      <td>140.1</td>\n",
       "    </tr>\n",
       "    <tr>\n",
       "      <th>1</th>\n",
       "      <td>5.0</td>\n",
       "      <td>30.0</td>\n",
       "      <td>65.0</td>\n",
       "      <td>22.0</td>\n",
       "      <td>113.0</td>\n",
       "      <td>0.5</td>\n",
       "      <td>20.9</td>\n",
       "      <td>82.0</td>\n",
       "      <td>1014.0</td>\n",
       "      <td>1.9</td>\n",
       "      <td>139.6</td>\n",
       "    </tr>\n",
       "    <tr>\n",
       "      <th>2</th>\n",
       "      <td>5.0</td>\n",
       "      <td>23.0</td>\n",
       "      <td>57.0</td>\n",
       "      <td>23.0</td>\n",
       "      <td>117.0</td>\n",
       "      <td>0.5</td>\n",
       "      <td>20.7</td>\n",
       "      <td>82.0</td>\n",
       "      <td>1013.7</td>\n",
       "      <td>1.6</td>\n",
       "      <td>126.4</td>\n",
       "    </tr>\n",
       "    <tr>\n",
       "      <th>3</th>\n",
       "      <td>6.0</td>\n",
       "      <td>17.0</td>\n",
       "      <td>46.0</td>\n",
       "      <td>23.0</td>\n",
       "      <td>114.0</td>\n",
       "      <td>0.5</td>\n",
       "      <td>20.3</td>\n",
       "      <td>82.0</td>\n",
       "      <td>1013.1</td>\n",
       "      <td>0.9</td>\n",
       "      <td>61.8</td>\n",
       "    </tr>\n",
       "    <tr>\n",
       "      <th>4</th>\n",
       "      <td>5.0</td>\n",
       "      <td>23.0</td>\n",
       "      <td>42.0</td>\n",
       "      <td>26.0</td>\n",
       "      <td>102.0</td>\n",
       "      <td>0.5</td>\n",
       "      <td>18.3</td>\n",
       "      <td>94.0</td>\n",
       "      <td>1012.6</td>\n",
       "      <td>1.1</td>\n",
       "      <td>138.0</td>\n",
       "    </tr>\n",
       "  </tbody>\n",
       "</table>\n",
       "</div>"
      ],
      "text/plain": [
       "   SO2监测浓度(μg/m³)  NO2监测浓度(μg/m³)  PM10监测浓度(μg/m³)  PM2.5监测浓度(μg/m³)  \\\n",
       "0             5.0            29.0             60.0              25.0   \n",
       "1             5.0            30.0             65.0              22.0   \n",
       "2             5.0            23.0             57.0              23.0   \n",
       "3             6.0            17.0             46.0              23.0   \n",
       "4             5.0            23.0             42.0              26.0   \n",
       "\n",
       "   O3监测浓度(μg/m³)  CO监测浓度(mg/m³)  温度(℃)  湿度(%)  气压(MBar)  近地风速(m/s)  风向(°)  \n",
       "0          116.0            0.5   20.9   84.0    1014.7        2.0  140.1  \n",
       "1          113.0            0.5   20.9   82.0    1014.0        1.9  139.6  \n",
       "2          117.0            0.5   20.7   82.0    1013.7        1.6  126.4  \n",
       "3          114.0            0.5   20.3   82.0    1013.1        0.9   61.8  \n",
       "4          102.0            0.5   18.3   94.0    1012.6        1.1  138.0  "
      ]
     },
     "execution_count": 181,
     "metadata": {},
     "output_type": "execute_result"
    }
   ],
   "source": [
    "num = df._get_numeric_data()\n",
    "num[num<0] = np.nan\n",
    "num.head()"
   ]
  },
  {
   "cell_type": "code",
   "execution_count": 184,
   "metadata": {},
   "outputs": [
    {
     "data": {
      "text/plain": [
       "SO2监测浓度(μg/m³)      248\n",
       "NO2监测浓度(μg/m³)      275\n",
       "PM10监测浓度(μg/m³)     285\n",
       "PM2.5监测浓度(μg/m³)    276\n",
       "O3监测浓度(μg/m³)       203\n",
       "CO监测浓度(mg/m³)       270\n",
       "温度(℃)                56\n",
       "湿度(%)                56\n",
       "气压(MBar)             56\n",
       "近地风速(m/s)            56\n",
       "风向(°)                56\n",
       "dtype: int64"
      ]
     },
     "execution_count": 184,
     "metadata": {},
     "output_type": "execute_result"
    }
   ],
   "source": [
    "num.isna().sum()"
   ]
  },
  {
   "cell_type": "markdown",
   "metadata": {},
   "source": [
    "## 预处理完分析"
   ]
  },
  {
   "cell_type": "code",
   "execution_count": 209,
   "metadata": {},
   "outputs": [
    {
     "ename": "InvalidFileException",
     "evalue": "openpyxl does not support  file format, please check you can open it with Excel first. Supported formats are: .xlsx,.xlsm,.xltx,.xltm",
     "output_type": "error",
     "traceback": [
      "\u001b[0;31m---------------------------------------------------------------------------\u001b[0m",
      "\u001b[0;31mInvalidFileException\u001b[0m                      Traceback (most recent call last)",
      "\u001b[0;32m<ipython-input-209-43fa80a7612b>\u001b[0m in \u001b[0;36m<module>\u001b[0;34m\u001b[0m\n\u001b[1;32m      2\u001b[0m \u001b[0msys\u001b[0m\u001b[0;34m.\u001b[0m\u001b[0mpath\u001b[0m\u001b[0;34m.\u001b[0m\u001b[0mappend\u001b[0m\u001b[0;34m(\u001b[0m\u001b[0;34m\"..\"\u001b[0m\u001b[0;34m)\u001b[0m\u001b[0;34m\u001b[0m\u001b[0;34m\u001b[0m\u001b[0m\n\u001b[1;32m      3\u001b[0m \u001b[0;32mfrom\u001b[0m \u001b[0mcommon\u001b[0m\u001b[0;34m.\u001b[0m\u001b[0mio\u001b[0m \u001b[0;32mimport\u001b[0m \u001b[0mload_table\u001b[0m\u001b[0;34m\u001b[0m\u001b[0;34m\u001b[0m\u001b[0m\n\u001b[0;32m----> 4\u001b[0;31m \u001b[0mdf\u001b[0m \u001b[0;34m=\u001b[0m \u001b[0mload_table\u001b[0m\u001b[0;34m(\u001b[0m\u001b[0;34m\"A\"\u001b[0m\u001b[0;34m)\u001b[0m\u001b[0;34m\u001b[0m\u001b[0;34m\u001b[0m\u001b[0m\n\u001b[0m",
      "\u001b[0;32m~/github/2021-math-model-code/common/io.py\u001b[0m in \u001b[0;36mload_table\u001b[0;34m(name)\u001b[0m\n\u001b[1;32m     19\u001b[0m \u001b[0;34m\u001b[0m\u001b[0m\n\u001b[1;32m     20\u001b[0m \u001b[0;32mdef\u001b[0m \u001b[0mload_table\u001b[0m\u001b[0;34m(\u001b[0m\u001b[0mname\u001b[0m\u001b[0;34m)\u001b[0m\u001b[0;34m:\u001b[0m\u001b[0;34m\u001b[0m\u001b[0;34m\u001b[0m\u001b[0m\n\u001b[0;32m---> 21\u001b[0;31m     \u001b[0mprint\u001b[0m\u001b[0;34m(\u001b[0m\u001b[0;34m\"data/\"\u001b[0m\u001b[0;34m+\u001b[0m\u001b[0mname\u001b[0m\u001b[0;34m+\u001b[0m\u001b[0;34m\".xlsx\"\u001b[0m\u001b[0;34m)\u001b[0m\u001b[0;34m\u001b[0m\u001b[0;34m\u001b[0m\u001b[0m\n\u001b[0m\u001b[1;32m     22\u001b[0m     \u001b[0;32mreturn\u001b[0m \u001b[0mpd\u001b[0m\u001b[0;34m.\u001b[0m\u001b[0mread_excel\u001b[0m\u001b[0;34m(\u001b[0m\u001b[0;34m\"data/\"\u001b[0m\u001b[0;34m+\u001b[0m\u001b[0mname\u001b[0m\u001b[0;34m+\u001b[0m\u001b[0;34m\".xlsx\"\u001b[0m\u001b[0;34m,\u001b[0m \u001b[0mengine\u001b[0m\u001b[0;34m=\u001b[0m\u001b[0;34m'openpyxl'\u001b[0m\u001b[0;34m,\u001b[0m \u001b[0msheet_name\u001b[0m\u001b[0;34m=\u001b[0m\u001b[0;32mNone\u001b[0m\u001b[0;34m)\u001b[0m\u001b[0;34m\u001b[0m\u001b[0;34m\u001b[0m\u001b[0m\n\u001b[1;32m     23\u001b[0m \u001b[0;34m\u001b[0m\u001b[0m\n",
      "\u001b[0;32m~/applications/miniconda3/envs/common/lib/python3.8/site-packages/pandas/util/_decorators.py\u001b[0m in \u001b[0;36mwrapper\u001b[0;34m(*args, **kwargs)\u001b[0m\n\u001b[1;32m    294\u001b[0m                 )\n\u001b[1;32m    295\u001b[0m                 \u001b[0mwarnings\u001b[0m\u001b[0;34m.\u001b[0m\u001b[0mwarn\u001b[0m\u001b[0;34m(\u001b[0m\u001b[0mmsg\u001b[0m\u001b[0;34m,\u001b[0m \u001b[0mFutureWarning\u001b[0m\u001b[0;34m,\u001b[0m \u001b[0mstacklevel\u001b[0m\u001b[0;34m=\u001b[0m\u001b[0mstacklevel\u001b[0m\u001b[0;34m)\u001b[0m\u001b[0;34m\u001b[0m\u001b[0;34m\u001b[0m\u001b[0m\n\u001b[0;32m--> 296\u001b[0;31m             \u001b[0;32mreturn\u001b[0m \u001b[0mfunc\u001b[0m\u001b[0;34m(\u001b[0m\u001b[0;34m*\u001b[0m\u001b[0margs\u001b[0m\u001b[0;34m,\u001b[0m \u001b[0;34m**\u001b[0m\u001b[0mkwargs\u001b[0m\u001b[0;34m)\u001b[0m\u001b[0;34m\u001b[0m\u001b[0;34m\u001b[0m\u001b[0m\n\u001b[0m\u001b[1;32m    297\u001b[0m \u001b[0;34m\u001b[0m\u001b[0m\n\u001b[1;32m    298\u001b[0m         \u001b[0;32mreturn\u001b[0m \u001b[0mwrapper\u001b[0m\u001b[0;34m\u001b[0m\u001b[0;34m\u001b[0m\u001b[0m\n",
      "\u001b[0;32m~/applications/miniconda3/envs/common/lib/python3.8/site-packages/pandas/io/excel/_base.py\u001b[0m in \u001b[0;36mread_excel\u001b[0;34m(io, sheet_name, header, names, index_col, usecols, squeeze, dtype, engine, converters, true_values, false_values, skiprows, nrows, na_values, keep_default_na, na_filter, verbose, parse_dates, date_parser, thousands, comment, skipfooter, convert_float, mangle_dupe_cols)\u001b[0m\n\u001b[1;32m    302\u001b[0m \u001b[0;34m\u001b[0m\u001b[0m\n\u001b[1;32m    303\u001b[0m     \u001b[0;32mif\u001b[0m \u001b[0;32mnot\u001b[0m \u001b[0misinstance\u001b[0m\u001b[0;34m(\u001b[0m\u001b[0mio\u001b[0m\u001b[0;34m,\u001b[0m \u001b[0mExcelFile\u001b[0m\u001b[0;34m)\u001b[0m\u001b[0;34m:\u001b[0m\u001b[0;34m\u001b[0m\u001b[0;34m\u001b[0m\u001b[0m\n\u001b[0;32m--> 304\u001b[0;31m         \u001b[0mio\u001b[0m \u001b[0;34m=\u001b[0m \u001b[0mExcelFile\u001b[0m\u001b[0;34m(\u001b[0m\u001b[0mio\u001b[0m\u001b[0;34m,\u001b[0m \u001b[0mengine\u001b[0m\u001b[0;34m=\u001b[0m\u001b[0mengine\u001b[0m\u001b[0;34m)\u001b[0m\u001b[0;34m\u001b[0m\u001b[0;34m\u001b[0m\u001b[0m\n\u001b[0m\u001b[1;32m    305\u001b[0m     \u001b[0;32melif\u001b[0m \u001b[0mengine\u001b[0m \u001b[0;32mand\u001b[0m \u001b[0mengine\u001b[0m \u001b[0;34m!=\u001b[0m \u001b[0mio\u001b[0m\u001b[0;34m.\u001b[0m\u001b[0mengine\u001b[0m\u001b[0;34m:\u001b[0m\u001b[0;34m\u001b[0m\u001b[0;34m\u001b[0m\u001b[0m\n\u001b[1;32m    306\u001b[0m         raise ValueError(\n",
      "\u001b[0;32m~/applications/miniconda3/envs/common/lib/python3.8/site-packages/pandas/io/excel/_base.py\u001b[0m in \u001b[0;36m__init__\u001b[0;34m(self, path_or_buffer, engine)\u001b[0m\n\u001b[1;32m    865\u001b[0m         \u001b[0mself\u001b[0m\u001b[0;34m.\u001b[0m\u001b[0m_io\u001b[0m \u001b[0;34m=\u001b[0m \u001b[0mstringify_path\u001b[0m\u001b[0;34m(\u001b[0m\u001b[0mpath_or_buffer\u001b[0m\u001b[0;34m)\u001b[0m\u001b[0;34m\u001b[0m\u001b[0;34m\u001b[0m\u001b[0m\n\u001b[1;32m    866\u001b[0m \u001b[0;34m\u001b[0m\u001b[0m\n\u001b[0;32m--> 867\u001b[0;31m         \u001b[0mself\u001b[0m\u001b[0;34m.\u001b[0m\u001b[0m_reader\u001b[0m \u001b[0;34m=\u001b[0m \u001b[0mself\u001b[0m\u001b[0;34m.\u001b[0m\u001b[0m_engines\u001b[0m\u001b[0;34m[\u001b[0m\u001b[0mengine\u001b[0m\u001b[0;34m]\u001b[0m\u001b[0;34m(\u001b[0m\u001b[0mself\u001b[0m\u001b[0;34m.\u001b[0m\u001b[0m_io\u001b[0m\u001b[0;34m)\u001b[0m\u001b[0;34m\u001b[0m\u001b[0;34m\u001b[0m\u001b[0m\n\u001b[0m\u001b[1;32m    868\u001b[0m \u001b[0;34m\u001b[0m\u001b[0m\n\u001b[1;32m    869\u001b[0m     \u001b[0;32mdef\u001b[0m \u001b[0m__fspath__\u001b[0m\u001b[0;34m(\u001b[0m\u001b[0mself\u001b[0m\u001b[0;34m)\u001b[0m\u001b[0;34m:\u001b[0m\u001b[0;34m\u001b[0m\u001b[0;34m\u001b[0m\u001b[0m\n",
      "\u001b[0;32m~/applications/miniconda3/envs/common/lib/python3.8/site-packages/pandas/io/excel/_openpyxl.py\u001b[0m in \u001b[0;36m__init__\u001b[0;34m(self, filepath_or_buffer)\u001b[0m\n\u001b[1;32m    478\u001b[0m         \"\"\"\n\u001b[1;32m    479\u001b[0m         \u001b[0mimport_optional_dependency\u001b[0m\u001b[0;34m(\u001b[0m\u001b[0;34m\"openpyxl\"\u001b[0m\u001b[0;34m)\u001b[0m\u001b[0;34m\u001b[0m\u001b[0;34m\u001b[0m\u001b[0m\n\u001b[0;32m--> 480\u001b[0;31m         \u001b[0msuper\u001b[0m\u001b[0;34m(\u001b[0m\u001b[0;34m)\u001b[0m\u001b[0;34m.\u001b[0m\u001b[0m__init__\u001b[0m\u001b[0;34m(\u001b[0m\u001b[0mfilepath_or_buffer\u001b[0m\u001b[0;34m)\u001b[0m\u001b[0;34m\u001b[0m\u001b[0;34m\u001b[0m\u001b[0m\n\u001b[0m\u001b[1;32m    481\u001b[0m \u001b[0;34m\u001b[0m\u001b[0m\n\u001b[1;32m    482\u001b[0m     \u001b[0;34m@\u001b[0m\u001b[0mproperty\u001b[0m\u001b[0;34m\u001b[0m\u001b[0;34m\u001b[0m\u001b[0m\n",
      "\u001b[0;32m~/applications/miniconda3/envs/common/lib/python3.8/site-packages/pandas/io/excel/_base.py\u001b[0m in \u001b[0;36m__init__\u001b[0;34m(self, filepath_or_buffer)\u001b[0m\n\u001b[1;32m    351\u001b[0m             \u001b[0mself\u001b[0m\u001b[0;34m.\u001b[0m\u001b[0mbook\u001b[0m \u001b[0;34m=\u001b[0m \u001b[0mself\u001b[0m\u001b[0;34m.\u001b[0m\u001b[0mload_workbook\u001b[0m\u001b[0;34m(\u001b[0m\u001b[0mfilepath_or_buffer\u001b[0m\u001b[0;34m)\u001b[0m\u001b[0;34m\u001b[0m\u001b[0;34m\u001b[0m\u001b[0m\n\u001b[1;32m    352\u001b[0m         \u001b[0;32melif\u001b[0m \u001b[0misinstance\u001b[0m\u001b[0;34m(\u001b[0m\u001b[0mfilepath_or_buffer\u001b[0m\u001b[0;34m,\u001b[0m \u001b[0mstr\u001b[0m\u001b[0;34m)\u001b[0m\u001b[0;34m:\u001b[0m\u001b[0;34m\u001b[0m\u001b[0;34m\u001b[0m\u001b[0m\n\u001b[0;32m--> 353\u001b[0;31m             \u001b[0mself\u001b[0m\u001b[0;34m.\u001b[0m\u001b[0mbook\u001b[0m \u001b[0;34m=\u001b[0m \u001b[0mself\u001b[0m\u001b[0;34m.\u001b[0m\u001b[0mload_workbook\u001b[0m\u001b[0;34m(\u001b[0m\u001b[0mfilepath_or_buffer\u001b[0m\u001b[0;34m)\u001b[0m\u001b[0;34m\u001b[0m\u001b[0;34m\u001b[0m\u001b[0m\n\u001b[0m\u001b[1;32m    354\u001b[0m         \u001b[0;32melif\u001b[0m \u001b[0misinstance\u001b[0m\u001b[0;34m(\u001b[0m\u001b[0mfilepath_or_buffer\u001b[0m\u001b[0;34m,\u001b[0m \u001b[0mbytes\u001b[0m\u001b[0;34m)\u001b[0m\u001b[0;34m:\u001b[0m\u001b[0;34m\u001b[0m\u001b[0;34m\u001b[0m\u001b[0m\n\u001b[1;32m    355\u001b[0m             \u001b[0mself\u001b[0m\u001b[0;34m.\u001b[0m\u001b[0mbook\u001b[0m \u001b[0;34m=\u001b[0m \u001b[0mself\u001b[0m\u001b[0;34m.\u001b[0m\u001b[0mload_workbook\u001b[0m\u001b[0;34m(\u001b[0m\u001b[0mBytesIO\u001b[0m\u001b[0;34m(\u001b[0m\u001b[0mfilepath_or_buffer\u001b[0m\u001b[0;34m)\u001b[0m\u001b[0;34m)\u001b[0m\u001b[0;34m\u001b[0m\u001b[0;34m\u001b[0m\u001b[0m\n",
      "\u001b[0;32m~/applications/miniconda3/envs/common/lib/python3.8/site-packages/pandas/io/excel/_openpyxl.py\u001b[0m in \u001b[0;36mload_workbook\u001b[0;34m(self, filepath_or_buffer)\u001b[0m\n\u001b[1;32m    489\u001b[0m         \u001b[0;32mfrom\u001b[0m \u001b[0mopenpyxl\u001b[0m \u001b[0;32mimport\u001b[0m \u001b[0mload_workbook\u001b[0m\u001b[0;34m\u001b[0m\u001b[0;34m\u001b[0m\u001b[0m\n\u001b[1;32m    490\u001b[0m \u001b[0;34m\u001b[0m\u001b[0m\n\u001b[0;32m--> 491\u001b[0;31m         return load_workbook(\n\u001b[0m\u001b[1;32m    492\u001b[0m             \u001b[0mfilepath_or_buffer\u001b[0m\u001b[0;34m,\u001b[0m \u001b[0mread_only\u001b[0m\u001b[0;34m=\u001b[0m\u001b[0;32mTrue\u001b[0m\u001b[0;34m,\u001b[0m \u001b[0mdata_only\u001b[0m\u001b[0;34m=\u001b[0m\u001b[0;32mTrue\u001b[0m\u001b[0;34m,\u001b[0m \u001b[0mkeep_links\u001b[0m\u001b[0;34m=\u001b[0m\u001b[0;32mFalse\u001b[0m\u001b[0;34m\u001b[0m\u001b[0;34m\u001b[0m\u001b[0m\n\u001b[1;32m    493\u001b[0m         )\n",
      "\u001b[0;32m~/applications/miniconda3/envs/common/lib/python3.8/site-packages/openpyxl/reader/excel.py\u001b[0m in \u001b[0;36mload_workbook\u001b[0;34m(filename, read_only, keep_vba, data_only, keep_links)\u001b[0m\n\u001b[1;32m    313\u001b[0m \u001b[0;34m\u001b[0m\u001b[0m\n\u001b[1;32m    314\u001b[0m     \"\"\"\n\u001b[0;32m--> 315\u001b[0;31m     reader = ExcelReader(filename, read_only, keep_vba,\n\u001b[0m\u001b[1;32m    316\u001b[0m                         data_only, keep_links)\n\u001b[1;32m    317\u001b[0m     \u001b[0mreader\u001b[0m\u001b[0;34m.\u001b[0m\u001b[0mread\u001b[0m\u001b[0;34m(\u001b[0m\u001b[0;34m)\u001b[0m\u001b[0;34m\u001b[0m\u001b[0;34m\u001b[0m\u001b[0m\n",
      "\u001b[0;32m~/applications/miniconda3/envs/common/lib/python3.8/site-packages/openpyxl/reader/excel.py\u001b[0m in \u001b[0;36m__init__\u001b[0;34m(self, fn, read_only, keep_vba, data_only, keep_links)\u001b[0m\n\u001b[1;32m    122\u001b[0m     def __init__(self,  fn, read_only=False, keep_vba=KEEP_VBA,\n\u001b[1;32m    123\u001b[0m                   data_only=False, keep_links=True):\n\u001b[0;32m--> 124\u001b[0;31m         \u001b[0mself\u001b[0m\u001b[0;34m.\u001b[0m\u001b[0marchive\u001b[0m \u001b[0;34m=\u001b[0m \u001b[0m_validate_archive\u001b[0m\u001b[0;34m(\u001b[0m\u001b[0mfn\u001b[0m\u001b[0;34m)\u001b[0m\u001b[0;34m\u001b[0m\u001b[0;34m\u001b[0m\u001b[0m\n\u001b[0m\u001b[1;32m    125\u001b[0m         \u001b[0mself\u001b[0m\u001b[0;34m.\u001b[0m\u001b[0mvalid_files\u001b[0m \u001b[0;34m=\u001b[0m \u001b[0mself\u001b[0m\u001b[0;34m.\u001b[0m\u001b[0marchive\u001b[0m\u001b[0;34m.\u001b[0m\u001b[0mnamelist\u001b[0m\u001b[0;34m(\u001b[0m\u001b[0;34m)\u001b[0m\u001b[0;34m\u001b[0m\u001b[0;34m\u001b[0m\u001b[0m\n\u001b[1;32m    126\u001b[0m         \u001b[0mself\u001b[0m\u001b[0;34m.\u001b[0m\u001b[0mread_only\u001b[0m \u001b[0;34m=\u001b[0m \u001b[0mread_only\u001b[0m\u001b[0;34m\u001b[0m\u001b[0;34m\u001b[0m\u001b[0m\n",
      "\u001b[0;32m~/applications/miniconda3/envs/common/lib/python3.8/site-packages/openpyxl/reader/excel.py\u001b[0m in \u001b[0;36m_validate_archive\u001b[0;34m(filename)\u001b[0m\n\u001b[1;32m     92\u001b[0m                        \u001b[0;34m'Supported formats are: %s'\u001b[0m\u001b[0;34m)\u001b[0m \u001b[0;34m%\u001b[0m \u001b[0;34m(\u001b[0m\u001b[0mfile_format\u001b[0m\u001b[0;34m,\u001b[0m\u001b[0;34m\u001b[0m\u001b[0;34m\u001b[0m\u001b[0m\n\u001b[1;32m     93\u001b[0m                                                        ','.join(SUPPORTED_FORMATS))\n\u001b[0;32m---> 94\u001b[0;31m             \u001b[0;32mraise\u001b[0m \u001b[0mInvalidFileException\u001b[0m\u001b[0;34m(\u001b[0m\u001b[0mmsg\u001b[0m\u001b[0;34m)\u001b[0m\u001b[0;34m\u001b[0m\u001b[0;34m\u001b[0m\u001b[0m\n\u001b[0m\u001b[1;32m     95\u001b[0m \u001b[0;34m\u001b[0m\u001b[0m\n\u001b[1;32m     96\u001b[0m     \u001b[0marchive\u001b[0m \u001b[0;34m=\u001b[0m \u001b[0mZipFile\u001b[0m\u001b[0;34m(\u001b[0m\u001b[0mfilename\u001b[0m\u001b[0;34m,\u001b[0m \u001b[0;34m'r'\u001b[0m\u001b[0;34m)\u001b[0m\u001b[0;34m\u001b[0m\u001b[0;34m\u001b[0m\u001b[0m\n",
      "\u001b[0;31mInvalidFileException\u001b[0m: openpyxl does not support  file format, please check you can open it with Excel first. Supported formats are: .xlsx,.xlsm,.xltx,.xltm"
     ]
    }
   ],
   "source": [
    "import sys\n",
    "sys.path.append(\"..\")\n",
    "from common.io import load_table\n",
    "df = load_table(\"A\")\n"
   ]
  },
  {
   "cell_type": "code",
   "execution_count": 207,
   "metadata": {},
   "outputs": [
    {
     "data": {
      "text/plain": [
       "Unnamed: 0                0\n",
       "监测日期                      0\n",
       "地点                        0\n",
       "SO2监测浓度(μg/m³)            0\n",
       "NO2监测浓度(μg/m³)            0\n",
       "PM10监测浓度(μg/m³)           0\n",
       "PM2.5监测浓度(μg/m³)          0\n",
       "O3最大八小时滑动平均监测浓度(μg/m³)    0\n",
       "CO监测浓度(mg/m³)             0\n",
       "dtype: int64"
      ]
     },
     "execution_count": 207,
     "metadata": {},
     "output_type": "execute_result"
    }
   ],
   "source": [
    "df['监测点A1逐日污染物浓度实测数据'].isna().sum()"
   ]
  },
  {
   "cell_type": "code",
   "execution_count": 206,
   "metadata": {},
   "outputs": [
    {
     "name": "stderr",
     "output_type": "stream",
     "text": [
      "<ipython-input-206-f44bc60b3c91>:1: FutureWarning: DataFrame.mean and DataFrame.median with numeric_only=None will include datetime64 and datetime64tz columns in a future version.\n",
      "  df['监测点A1逐日污染物浓度实测数据'] = df['监测点A1逐日污染物浓度实测数据'].fillna(df['监测点A1逐日污染物浓度实测数据'].mean())\n"
     ]
    }
   ],
   "source": [
    "df['监测点A1逐日污染物浓度实测数据'] = df['监测点A1逐日污染物浓度实测数据'].fillna(df['监测点A1逐日污染物浓度实测数据'].mean())"
   ]
  },
  {
   "cell_type": "markdown",
   "metadata": {},
   "source": [
    "## 空值分析"
   ]
  },
  {
   "cell_type": "code",
   "execution_count": 117,
   "metadata": {},
   "outputs": [
    {
     "name": "stderr",
     "output_type": "stream",
     "text": [
      "<ipython-input-117-5fff5f5b585c>:17: UserWarning: FixedFormatter should only be used together with FixedLocator\n",
      "  axs[i//3][i%3].set_xticklabels(labels=v.keys(),rotation=45)\n"
     ]
    }
   ],
   "source": [
    "def null_values_analysis(data):\n",
    "    NULL_COUNTS = {}\n",
    "    for p in PLACES:\n",
    "        for t in TYPES:  \n",
    "            if data[p][t].isnull().sum().sum():\n",
    "                NULL_COUNTS.update({p+\"_\"+str(t):data[p][t].isnull().sum()})\n",
    "    return NULL_COUNTS\n",
    "\n",
    "def null_values_analysis_plot(null_table):\n",
    "    fig, axs = plt.subplots(3, 3, figsize=FIGSIZE)\n",
    "    fig.tight_layout(h_pad=10)\n",
    "    fig.suptitle('空值分析', size=20)\n",
    "    \n",
    "    for i, (k,v) in enumerate(null_table.items()):\n",
    "        axs[i//3][i%3].bar(v.keys(), v, 0.35)\n",
    "        axs[i//3][i%3].set_title(k)\n",
    "        axs[i//3][i%3].set_xticklabels(labels=v.keys(),rotation=45)\n",
    "        axs[i//3][i%3].grid(True)\n",
    "\n",
    "    font = {'family': 'serif',\n",
    "            'color':  'darkred',\n",
    "            'weight': 'normal',\n",
    "            'size': 16,\n",
    "            }\n",
    "\n",
    "    plt.savefig(\"results/nan_value_analysis.\"+FORMAT, format=FORMAT)\n",
    "    plt.close()\n",
    "null_table = null_values_analysis(data)\n",
    "null_values_analysis_plot(null_table)"
   ]
  },
  {
   "cell_type": "markdown",
   "metadata": {},
   "source": [
    "# 数据分析\n",
    "下面首先对各量随时间的分布进行分析\n",
    "注意数字和子表格的对应：\n",
    "- 0 逐小时污染物浓度与气象一次预报数据\n",
    "- 1 逐小时污染物浓度与气象实测数据\n",
    "- 2 逐日污染物浓度实测数据\n",
    "\n",
    "## 0 对逐小时污染物浓度与气象一次预报数据的分析"
   ]
  },
  {
   "cell_type": "code",
   "execution_count": 118,
   "metadata": {},
   "outputs": [
    {
     "data": {
      "text/plain": [
       "(Index(['模型运行日期', '预测时间', '地点', '近地2米温度（℃）', '地表温度（K）', '比湿（kg/kg）', '湿度（%）',\n",
       "        '近地10米风速（m/s）', '近地10米风向（°）', '雨量（mm）', '云量', '边界层高度（m）', '大气压（Kpa）',\n",
       "        '感热通量（W/m²）', '潜热通量（W/m²）', '长波辐射（W/m²）', '短波辐射（W/m²）', '地面太阳能辐射（W/m²）',\n",
       "        'SO2小时平均浓度(μg/m³)', 'NO2小时平均浓度(μg/m³)', 'PM10小时平均浓度(μg/m³)',\n",
       "        'PM2.5小时平均浓度(μg/m³)', 'O3小时平均浓度(μg/m³)', 'CO小时平均浓度(mg/m³)'],\n",
       "       dtype='object'),\n",
       " 21)"
      ]
     },
     "execution_count": 118,
     "metadata": {},
     "output_type": "execute_result"
    }
   ],
   "source": [
    "key = data['A'][0].columns\n",
    "key, len(key[3:])"
   ]
  },
  {
   "cell_type": "code",
   "execution_count": 119,
   "metadata": {},
   "outputs": [
    {
     "name": "stdout",
     "output_type": "stream",
     "text": [
      "预测天气状况 Index(['近地2米温度（℃）', '地表温度（K）', '比湿（kg/kg）', '湿度（%）', '近地10米风速（m/s）',\n",
      "       '近地10米风向（°）', '雨量（mm）', '云量', '边界层高度（m）', '大气压（Kpa）', '感热通量（W/m²）',\n",
      "       '潜热通量（W/m²）', '长波辐射（W/m²）', '短波辐射（W/m²）', '地面太阳能辐射（W/m²）'],\n",
      "      dtype='object')\n",
      "预测污染因素 Index(['SO2小时平均浓度(μg/m³)', 'NO2小时平均浓度(μg/m³)', 'PM10小时平均浓度(μg/m³)',\n",
      "       'PM2.5小时平均浓度(μg/m³)', 'O3小时平均浓度(μg/m³)', 'CO小时平均浓度(mg/m³)'],\n",
      "      dtype='object')\n"
     ]
    }
   ],
   "source": [
    "PREDICTED_KEYS = key[3:]\n",
    "print(\"预测天气状况\",PREDICTED_KEYS[:-6])\n",
    "print(\"预测污染因素\",PREDICTED_KEYS[-6:])"
   ]
  },
  {
   "cell_type": "code",
   "execution_count": 120,
   "metadata": {},
   "outputs": [],
   "source": [
    "def plot_prediction_hist_by_time(place):\n",
    "    \"对逐小时污染物浓度与气象一次预报数据的分析\"\n",
    "    key = data[place][0].columns\n",
    "    PREDICTED_KEYS = key[3:]\n",
    "    fig, axes = plt.subplots(nrows=7, ncols=3, figsize=FIGSIZE)\n",
    "    fig.tight_layout(h_pad=3)\n",
    "    plt.suptitle(place+\"_0\", size=30)\n",
    "    \n",
    "    for i, k in enumerate(PREDICTED_KEYS):\n",
    "        data[place][0].plot.line(ax = axes[i//3][i%3], x = key[1] , y=k)\n",
    "    plt.savefig(\"results/{}_0逐小时污染物浓度与气象一次预报数据.{}\".format(place, FORMAT), format=FORMAT)\n",
    "    plt.close()\n",
    "\n",
    "\n",
    "for p in PLACES:\n",
    "    plot_prediction_hist_by_time(p)"
   ]
  },
  {
   "cell_type": "markdown",
   "metadata": {},
   "source": [
    "## 1 对逐小时污染物浓度与气象实测数据的分析"
   ]
  },
  {
   "cell_type": "code",
   "execution_count": 121,
   "metadata": {},
   "outputs": [
    {
     "data": {
      "text/plain": [
       "(Index(['监测时间', '地点', 'SO2监测浓度(μg/m³)', 'NO2监测浓度(μg/m³)', 'PM10监测浓度(μg/m³)',\n",
       "        'PM2.5监测浓度(μg/m³)', 'O3监测浓度(μg/m³)', 'CO监测浓度(mg/m³)', '温度(℃)', '湿度(%)',\n",
       "        '气压(MBar)', '风速(m/s)', '风向(°)'],\n",
       "       dtype='object'),\n",
       " 11)"
      ]
     },
     "execution_count": 121,
     "metadata": {},
     "output_type": "execute_result"
    }
   ],
   "source": [
    "key = data['A'][1].columns\n",
    "key, len(key[2:])"
   ]
  },
  {
   "cell_type": "code",
   "execution_count": 122,
   "metadata": {},
   "outputs": [
    {
     "name": "stdout",
     "output_type": "stream",
     "text": [
      "测量天气状况 Index(['SO2监测浓度(μg/m³)', 'NO2监测浓度(μg/m³)', 'PM10监测浓度(μg/m³)',\n",
      "       'PM2.5监测浓度(μg/m³)', 'O3监测浓度(μg/m³)', 'CO监测浓度(mg/m³)'],\n",
      "      dtype='object')\n",
      "测量污染因素 Index(['温度(℃)', '湿度(%)', '气压(MBar)', '风速(m/s)', '风向(°)'], dtype='object')\n"
     ]
    }
   ],
   "source": [
    "MEASURED_KEYS = key[2:]\n",
    "print(\"测量天气状况\",MEASURED_KEYS[:6])\n",
    "print(\"测量污染因素\",MEASURED_KEYS[6:])"
   ]
  },
  {
   "cell_type": "code",
   "execution_count": 123,
   "metadata": {},
   "outputs": [],
   "source": [
    "def plot_measured_hist_by_hour(place):\n",
    "    \"对逐小时污染物浓度与气象一次预报数据的分析\"\n",
    "    key = data[place][1].columns\n",
    "    MEASURED_KEYS = key[2:]\n",
    "    fig, axes = plt.subplots(nrows=4, ncols=3, figsize=FIGSIZE)\n",
    "    for i, k in enumerate(MEASURED_KEYS):\n",
    "        axes[i//3][i%3].set_xticks([])\n",
    "        # 预处理\n",
    "        data[place][1][k].fillna(0)\n",
    "        # 将object类型转为数值类型\n",
    "        data[place][1][k] = pd.to_numeric(data[place][1][k], errors='coerce')\n",
    "        data[place][1].plot.line(ax = axes[i//3][i%3], x = key[0] , y=k)\n",
    "    fig.tight_layout(h_pad=3)\n",
    "    plt.suptitle(place+\"_1\", size=30)\n",
    "    plt.savefig(\"results/{}_1逐小时污染物浓度与气象实测数据.{}\".format(place, FORMAT), format=FORMAT)\n",
    "    plt.close()\n",
    "    \n",
    "for p in PLACES:\n",
    "    plot_measured_hist_by_hour(p)"
   ]
  },
  {
   "cell_type": "markdown",
   "metadata": {},
   "source": [
    "## 2 对逐日污染物浓度实测数据的分析"
   ]
  },
  {
   "cell_type": "code",
   "execution_count": 124,
   "metadata": {},
   "outputs": [
    {
     "data": {
      "text/plain": [
       "(Index(['监测日期', '地点', 'SO2监测浓度(μg/m³)', 'NO2监测浓度(μg/m³)', 'PM10监测浓度(μg/m³)',\n",
       "        'PM2.5监测浓度(μg/m³)', 'O3最大八小时滑动平均监测浓度(μg/m³)', 'CO监测浓度(mg/m³)'],\n",
       "       dtype='object'),\n",
       " 6)"
      ]
     },
     "execution_count": 124,
     "metadata": {},
     "output_type": "execute_result"
    }
   ],
   "source": [
    "key = data['A'][2].columns\n",
    "key, len(key[2:])"
   ]
  },
  {
   "cell_type": "code",
   "execution_count": 125,
   "metadata": {},
   "outputs": [
    {
     "name": "stdout",
     "output_type": "stream",
     "text": [
      "测量污染因素 Index(['SO2监测浓度(μg/m³)', 'NO2监测浓度(μg/m³)', 'PM10监测浓度(μg/m³)',\n",
      "       'PM2.5监测浓度(μg/m³)', 'O3最大八小时滑动平均监测浓度(μg/m³)', 'CO监测浓度(mg/m³)'],\n",
      "      dtype='object')\n"
     ]
    }
   ],
   "source": [
    "MEASURED_KEYS = key[2:]\n",
    "print(\"测量污染因素\",MEASURED_KEYS[:])"
   ]
  },
  {
   "cell_type": "code",
   "execution_count": 126,
   "metadata": {},
   "outputs": [],
   "source": [
    "def plot_measured_polution_hist_by_day(place):\n",
    "    \"对逐小时污染物浓度与气象一次预报数据的分析\"\n",
    "    key = data[place][2].columns\n",
    "    MEASURED_KEYS = key[2:]\n",
    "    fig, axes = plt.subplots(nrows=2, ncols=3, figsize=FIGSIZE)\n",
    "    for i, k in enumerate(MEASURED_KEYS):\n",
    "        # 预处理\n",
    "        data[place][2][k].fillna(0)\n",
    "        # 将object类型转为数值类型\n",
    "        data[place][2][k] = pd.to_numeric(data[place][2][k], errors='coerce')\n",
    "        data[place][2].plot.line(ax = axes[i//3][i%3], x = key[0] , y=k)\n",
    "    fig.tight_layout(h_pad=3)\n",
    "    plt.suptitle(place+\"_2\", size=30)\n",
    "    plt.savefig(\"results/{}_2逐日污染物浓度实测数据.{}\".format(place, FORMAT), format=FORMAT)\n",
    "    plt.close()\n",
    "# 解锁运行  \n",
    "for p in PLACES:\n",
    "    plot_measured_polution_hist_by_day(p)"
   ]
  }
 ],
 "metadata": {
  "kernelspec": {
   "display_name": "common",
   "language": "python",
   "name": "common"
  },
  "language_info": {
   "codemirror_mode": {
    "name": "ipython",
    "version": 3
   },
   "file_extension": ".py",
   "mimetype": "text/x-python",
   "name": "python",
   "nbconvert_exporter": "python",
   "pygments_lexer": "ipython3",
   "version": "3.8.3"
  }
 },
 "nbformat": 4,
 "nbformat_minor": 4
}
