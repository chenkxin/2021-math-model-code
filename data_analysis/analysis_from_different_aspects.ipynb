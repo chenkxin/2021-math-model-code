{
 "cells": [
  {
   "cell_type": "code",
   "execution_count": 186,
   "metadata": {},
   "outputs": [],
   "source": [
    "# Author: QiangZiBro\n",
    "# Time: 2021-10-14\n",
    "# Contact: Github/QiangZiBro\n",
    "\n",
    "# data analysis and wrangling\n",
    "import pandas as pd\n",
    "import numpy as np\n",
    "import random as rnd\n",
    "import warnings\n",
    "# visualization\n",
    "import seaborn as sns\n",
    "import matplotlib.pyplot as plt\n",
    "\n",
    "plt.style.use('ggplot')\n",
    "# MacOS上画图中文乱码的问题\n",
    "# https://blog.csdn.net/minixuezhen/article/details/81516949?utm_medium=distribute.pc_relevant.none-task-blog-\n",
    "plt.rcParams['font.sans-serif'] = ['Arial Unicode MS']\n",
    "\n",
    "# %matplotlib inline\n",
    "\n",
    "import sys\n",
    "import os\n",
    "\n",
    "from pprint import pprint\n",
    "\n",
    "if not os.path.exists(\"results\"):\n",
    "    os.mkdir(\"results\")\n",
    "\n",
    "warnings.filterwarnings(\"ignore\")\n",
    "FIGSIZE = (30, 25)\n",
    "FORMAT = \"jpg\""
   ]
  },
  {
   "cell_type": "markdown",
   "metadata": {},
   "source": [
    "## 数据加载工具"
   ]
  },
  {
   "cell_type": "code",
   "execution_count": 49,
   "metadata": {},
   "outputs": [],
   "source": [
    "PLACES = ['A', 'B', 'C', 'A1', 'A2', 'A3']\n",
    "TYPES = [0, 1, 2]\n",
    "def _load_data():\n",
    "    table_files = \"\"\"data/附件1 监测点A空气质量预报基础数据.xlsx\n",
    "data/附件2 监测点B、C空气质量预报基础数据.xlsx\n",
    "data/附件3 监测点A1、A2、A3空气质量预报基础数据.xlsx\"\"\".split(\"\\n\")\n",
    "    tables = [pd.read_excel(\"../\"+i, engine='openpyxl', sheet_name=None) for i in table_files] # 表格全读取\n",
    "    keys = [list(i.keys()) for i in tables] # 每个表格的sheet list\n",
    "    return tables, keys\n",
    "\n",
    "def _process_to_json(tables):\n",
    "    sheetnames = {0:'监测点{}逐小时污染物浓度与气象一次预报数据', 1:'监测点{}逐小时污染物浓度与气象实测数据', 2:'监测点{}逐日污染物浓度实测数据'}\n",
    "    result = {i:{} for i in PLACES}\n",
    "    \n",
    "    for k,v in sheetnames.items():\n",
    "        tables[0][v.format('A')].name = v.format('A')\n",
    "        result['A'][k] = tables[0][v.format('A')]\n",
    "    for c in ['B', 'C']:\n",
    "        for k,v in sheetnames.items():\n",
    "            tables[1][v.format(c)].name = v.format(c)\n",
    "            result[c][k] = tables[1][v.format(c)]\n",
    "    for c in ['A1', 'A2', 'A3']:\n",
    "        for k,v in sheetnames.items():\n",
    "            tables[2][v.format(c)].name = v.format(c)\n",
    "            result[c][k] = tables[2][v.format(c)]\n",
    "    return result\n",
    "\n",
    "def load(): \n",
    "    \"\"\"得到一个Json格式的数据项\n",
    "    \n",
    "    Return:\n",
    "        {\n",
    "            \"A\":{\n",
    "                \"0\":DataFrame,\n",
    "                \"1\":DataFrame,\n",
    "                \"2\":DataFrame,\n",
    "            }\n",
    "            ...\n",
    "        }\n",
    "    \"\"\"\n",
    "    \n",
    "    tables, keys = _load_data()\n",
    "    return _process_to_json(tables)\n",
    "\n",
    "data = load()"
   ]
  },
  {
   "cell_type": "markdown",
   "metadata": {},
   "source": [
    "## 一键报告（仅供参考）"
   ]
  },
  {
   "cell_type": "code",
   "execution_count": null,
   "metadata": {},
   "outputs": [
    {
     "data": {
      "application/vnd.jupyter.widget-view+json": {
       "model_id": "4b1bec90b93d40c7ae90a74ad37fb98b",
       "version_major": 2,
       "version_minor": 0
      },
      "text/plain": [
       "HBox(children=(FloatProgress(value=0.0, description='Summarize dataset', max=5.0, style=ProgressStyle(descript…"
      ]
     },
     "metadata": {},
     "output_type": "display_data"
    },
    {
     "name": "stdout",
     "output_type": "stream",
     "text": [
      "\n"
     ]
    },
    {
     "data": {
      "application/vnd.jupyter.widget-view+json": {
       "model_id": "6996cc5bb9154078b90cd1df1434f145",
       "version_major": 2,
       "version_minor": 0
      },
      "text/plain": [
       "HBox(children=(FloatProgress(value=0.0, description='Generate report structure', max=1.0, style=ProgressStyle(…"
      ]
     },
     "metadata": {},
     "output_type": "display_data"
    },
    {
     "name": "stdout",
     "output_type": "stream",
     "text": [
      "\n"
     ]
    },
    {
     "data": {
      "application/vnd.jupyter.widget-view+json": {
       "model_id": "083529dd9b924b9ab400469fb0ae26c5",
       "version_major": 2,
       "version_minor": 0
      },
      "text/plain": [
       "HBox(children=(FloatProgress(value=0.0, description='Render HTML', max=1.0, style=ProgressStyle(description_wi…"
      ]
     },
     "metadata": {},
     "output_type": "display_data"
    },
    {
     "name": "stdout",
     "output_type": "stream",
     "text": [
      "\n"
     ]
    },
    {
     "data": {
      "application/vnd.jupyter.widget-view+json": {
       "model_id": "5e0b8fdd2c87408f9a9edf40d77c27f2",
       "version_major": 2,
       "version_minor": 0
      },
      "text/plain": [
       "HBox(children=(FloatProgress(value=0.0, description='Export report to file', max=1.0, style=ProgressStyle(desc…"
      ]
     },
     "metadata": {},
     "output_type": "display_data"
    },
    {
     "name": "stdout",
     "output_type": "stream",
     "text": [
      "\n"
     ]
    },
    {
     "data": {
      "application/vnd.jupyter.widget-view+json": {
       "model_id": "0c35f4ccc4ab4e6db4a3283a6526ebc9",
       "version_major": 2,
       "version_minor": 0
      },
      "text/plain": [
       "HBox(children=(FloatProgress(value=0.0, description='Summarize dataset', max=5.0, style=ProgressStyle(descript…"
      ]
     },
     "metadata": {},
     "output_type": "display_data"
    },
    {
     "name": "stdout",
     "output_type": "stream",
     "text": [
      "\n"
     ]
    },
    {
     "data": {
      "application/vnd.jupyter.widget-view+json": {
       "model_id": "c77ba4c417bc49b5aeb80ac51758e047",
       "version_major": 2,
       "version_minor": 0
      },
      "text/plain": [
       "HBox(children=(FloatProgress(value=0.0, description='Generate report structure', max=1.0, style=ProgressStyle(…"
      ]
     },
     "metadata": {},
     "output_type": "display_data"
    },
    {
     "name": "stdout",
     "output_type": "stream",
     "text": [
      "\n"
     ]
    },
    {
     "data": {
      "application/vnd.jupyter.widget-view+json": {
       "model_id": "de32f189c5854e7ca290655aa277463c",
       "version_major": 2,
       "version_minor": 0
      },
      "text/plain": [
       "HBox(children=(FloatProgress(value=0.0, description='Render HTML', max=1.0, style=ProgressStyle(description_wi…"
      ]
     },
     "metadata": {},
     "output_type": "display_data"
    },
    {
     "name": "stdout",
     "output_type": "stream",
     "text": [
      "\n"
     ]
    },
    {
     "data": {
      "application/vnd.jupyter.widget-view+json": {
       "model_id": "5084c6cbd0aa49278b0eac91666faf0c",
       "version_major": 2,
       "version_minor": 0
      },
      "text/plain": [
       "HBox(children=(FloatProgress(value=0.0, description='Export report to file', max=1.0, style=ProgressStyle(desc…"
      ]
     },
     "metadata": {},
     "output_type": "display_data"
    },
    {
     "name": "stdout",
     "output_type": "stream",
     "text": [
      "\n"
     ]
    },
    {
     "data": {
      "application/vnd.jupyter.widget-view+json": {
       "model_id": "fc72aab9461d4feb9a920d8d242670fa",
       "version_major": 2,
       "version_minor": 0
      },
      "text/plain": [
       "HBox(children=(FloatProgress(value=0.0, description='Summarize dataset', max=5.0, style=ProgressStyle(descript…"
      ]
     },
     "metadata": {},
     "output_type": "display_data"
    },
    {
     "name": "stdout",
     "output_type": "stream",
     "text": [
      "\n"
     ]
    },
    {
     "data": {
      "application/vnd.jupyter.widget-view+json": {
       "model_id": "624e1f7007224b419674b6a72d4c802c",
       "version_major": 2,
       "version_minor": 0
      },
      "text/plain": [
       "HBox(children=(FloatProgress(value=0.0, description='Generate report structure', max=1.0, style=ProgressStyle(…"
      ]
     },
     "metadata": {},
     "output_type": "display_data"
    },
    {
     "name": "stdout",
     "output_type": "stream",
     "text": [
      "\n"
     ]
    },
    {
     "data": {
      "application/vnd.jupyter.widget-view+json": {
       "model_id": "14248daefe4a4e26bbd422ba468350fe",
       "version_major": 2,
       "version_minor": 0
      },
      "text/plain": [
       "HBox(children=(FloatProgress(value=0.0, description='Render HTML', max=1.0, style=ProgressStyle(description_wi…"
      ]
     },
     "metadata": {},
     "output_type": "display_data"
    },
    {
     "name": "stdout",
     "output_type": "stream",
     "text": [
      "\n"
     ]
    },
    {
     "data": {
      "application/vnd.jupyter.widget-view+json": {
       "model_id": "2c4fff074a934d9e9e9fd3dd13de0acb",
       "version_major": 2,
       "version_minor": 0
      },
      "text/plain": [
       "HBox(children=(FloatProgress(value=0.0, description='Export report to file', max=1.0, style=ProgressStyle(desc…"
      ]
     },
     "metadata": {},
     "output_type": "display_data"
    },
    {
     "name": "stdout",
     "output_type": "stream",
     "text": [
      "\n"
     ]
    },
    {
     "data": {
      "application/vnd.jupyter.widget-view+json": {
       "model_id": "d9d064383a81403d849bd9b6aee51ed6",
       "version_major": 2,
       "version_minor": 0
      },
      "text/plain": [
       "HBox(children=(FloatProgress(value=0.0, description='Summarize dataset', max=5.0, style=ProgressStyle(descript…"
      ]
     },
     "metadata": {},
     "output_type": "display_data"
    },
    {
     "name": "stdout",
     "output_type": "stream",
     "text": [
      "\n"
     ]
    },
    {
     "data": {
      "application/vnd.jupyter.widget-view+json": {
       "model_id": "12ad5f61e57545a38f169d0012ae2cea",
       "version_major": 2,
       "version_minor": 0
      },
      "text/plain": [
       "HBox(children=(FloatProgress(value=0.0, description='Generate report structure', max=1.0, style=ProgressStyle(…"
      ]
     },
     "metadata": {},
     "output_type": "display_data"
    },
    {
     "name": "stdout",
     "output_type": "stream",
     "text": [
      "\n"
     ]
    },
    {
     "data": {
      "application/vnd.jupyter.widget-view+json": {
       "model_id": "3141eaffcce8424899762aa6c876dc73",
       "version_major": 2,
       "version_minor": 0
      },
      "text/plain": [
       "HBox(children=(FloatProgress(value=0.0, description='Render HTML', max=1.0, style=ProgressStyle(description_wi…"
      ]
     },
     "metadata": {},
     "output_type": "display_data"
    },
    {
     "name": "stdout",
     "output_type": "stream",
     "text": [
      "\n"
     ]
    },
    {
     "data": {
      "application/vnd.jupyter.widget-view+json": {
       "model_id": "879a47e4634842278efff63c60b6b71d",
       "version_major": 2,
       "version_minor": 0
      },
      "text/plain": [
       "HBox(children=(FloatProgress(value=0.0, description='Export report to file', max=1.0, style=ProgressStyle(desc…"
      ]
     },
     "metadata": {},
     "output_type": "display_data"
    },
    {
     "name": "stdout",
     "output_type": "stream",
     "text": [
      "\n"
     ]
    },
    {
     "data": {
      "application/vnd.jupyter.widget-view+json": {
       "model_id": "e6a4ee903d224eba8c2d0088e1378005",
       "version_major": 2,
       "version_minor": 0
      },
      "text/plain": [
       "HBox(children=(FloatProgress(value=0.0, description='Summarize dataset', max=5.0, style=ProgressStyle(descript…"
      ]
     },
     "metadata": {},
     "output_type": "display_data"
    },
    {
     "name": "stdout",
     "output_type": "stream",
     "text": [
      "\n"
     ]
    },
    {
     "data": {
      "application/vnd.jupyter.widget-view+json": {
       "model_id": "207e504f035d4c1daafb8dd1a4244b9c",
       "version_major": 2,
       "version_minor": 0
      },
      "text/plain": [
       "HBox(children=(FloatProgress(value=0.0, description='Generate report structure', max=1.0, style=ProgressStyle(…"
      ]
     },
     "metadata": {},
     "output_type": "display_data"
    },
    {
     "name": "stdout",
     "output_type": "stream",
     "text": [
      "\n"
     ]
    },
    {
     "data": {
      "application/vnd.jupyter.widget-view+json": {
       "model_id": "39b9bcb2b216453a9eac1d522e968668",
       "version_major": 2,
       "version_minor": 0
      },
      "text/plain": [
       "HBox(children=(FloatProgress(value=0.0, description='Render HTML', max=1.0, style=ProgressStyle(description_wi…"
      ]
     },
     "metadata": {},
     "output_type": "display_data"
    },
    {
     "name": "stdout",
     "output_type": "stream",
     "text": [
      "\n"
     ]
    },
    {
     "data": {
      "application/vnd.jupyter.widget-view+json": {
       "model_id": "ebf2e3b4056f4297a3f042b20699c344",
       "version_major": 2,
       "version_minor": 0
      },
      "text/plain": [
       "HBox(children=(FloatProgress(value=0.0, description='Export report to file', max=1.0, style=ProgressStyle(desc…"
      ]
     },
     "metadata": {},
     "output_type": "display_data"
    },
    {
     "name": "stdout",
     "output_type": "stream",
     "text": [
      "\n"
     ]
    },
    {
     "data": {
      "application/vnd.jupyter.widget-view+json": {
       "model_id": "a9c8065ecaf1460db095423a60362e25",
       "version_major": 2,
       "version_minor": 0
      },
      "text/plain": [
       "HBox(children=(FloatProgress(value=0.0, description='Summarize dataset', max=5.0, style=ProgressStyle(descript…"
      ]
     },
     "metadata": {},
     "output_type": "display_data"
    },
    {
     "name": "stdout",
     "output_type": "stream",
     "text": [
      "\n"
     ]
    },
    {
     "data": {
      "application/vnd.jupyter.widget-view+json": {
       "model_id": "1435fe35e4f549be9d2868f168da123a",
       "version_major": 2,
       "version_minor": 0
      },
      "text/plain": [
       "HBox(children=(FloatProgress(value=0.0, description='Generate report structure', max=1.0, style=ProgressStyle(…"
      ]
     },
     "metadata": {},
     "output_type": "display_data"
    },
    {
     "name": "stdout",
     "output_type": "stream",
     "text": [
      "\n"
     ]
    },
    {
     "data": {
      "application/vnd.jupyter.widget-view+json": {
       "model_id": "20bbc0cc3d9d4880864b607b82ce7c02",
       "version_major": 2,
       "version_minor": 0
      },
      "text/plain": [
       "HBox(children=(FloatProgress(value=0.0, description='Render HTML', max=1.0, style=ProgressStyle(description_wi…"
      ]
     },
     "metadata": {},
     "output_type": "display_data"
    },
    {
     "name": "stdout",
     "output_type": "stream",
     "text": [
      "\n"
     ]
    },
    {
     "data": {
      "application/vnd.jupyter.widget-view+json": {
       "model_id": "6c1ae1d603704f41b475d040425df4b5",
       "version_major": 2,
       "version_minor": 0
      },
      "text/plain": [
       "HBox(children=(FloatProgress(value=0.0, description='Export report to file', max=1.0, style=ProgressStyle(desc…"
      ]
     },
     "metadata": {},
     "output_type": "display_data"
    },
    {
     "name": "stdout",
     "output_type": "stream",
     "text": [
      "\n"
     ]
    },
    {
     "data": {
      "application/vnd.jupyter.widget-view+json": {
       "model_id": "31c2ae6b07314f3598d269f4a37431b4",
       "version_major": 2,
       "version_minor": 0
      },
      "text/plain": [
       "HBox(children=(FloatProgress(value=0.0, description='Summarize dataset', max=5.0, style=ProgressStyle(descript…"
      ]
     },
     "metadata": {},
     "output_type": "display_data"
    }
   ],
   "source": [
    "import pandas_profiling\n",
    "from pathlib import Path\n",
    "for p in PLACES:\n",
    "    for i in range(3):\n",
    "        profile = data[p][i].profile_report(title = f\"{p}_{i}\")\n",
    "        profile.to_file(output_file = Path(f\"./{p}_{i}_report.html\"))"
   ]
  },
  {
   "cell_type": "code",
   "execution_count": 192,
   "metadata": {},
   "outputs": [
    {
     "data": {
      "application/vnd.jupyter.widget-view+json": {
       "model_id": "5d0f71f327084809ad2c82b57d746bb6",
       "version_major": 2,
       "version_minor": 0
      },
      "text/plain": [
       "HBox(children=(FloatProgress(value=0.0, layout=Layout(flex='2'), max=9.0), HTML(value='')), layout=Layout(disp…"
      ]
     },
     "metadata": {},
     "output_type": "display_data"
    },
    {
     "name": "stdout",
     "output_type": "stream",
     "text": [
      "\n",
      "Report SWEETVIZ_REPORT.html was generated! NOTEBOOK/COLAB USERS: the web browser MAY not pop up, regardless, the report IS saved in your notebook/colab files.\n"
     ]
    },
    {
     "data": {
      "application/vnd.jupyter.widget-view+json": {
       "model_id": "c90f267b5e424e18a553f412351c209a",
       "version_major": 2,
       "version_minor": 0
      },
      "text/plain": [
       "HBox(children=(FloatProgress(value=0.0, layout=Layout(flex='2'), max=25.0), HTML(value='')), layout=Layout(dis…"
      ]
     },
     "metadata": {},
     "output_type": "display_data"
    },
    {
     "name": "stdout",
     "output_type": "stream",
     "text": [
      "\n",
      "Report sv_A_0_report.html was generated! NOTEBOOK/COLAB USERS: the web browser MAY not pop up, regardless, the report IS saved in your notebook/colab files.\n"
     ]
    },
    {
     "data": {
      "application/vnd.jupyter.widget-view+json": {
       "model_id": "d47acacbcc944ef28b9da93f93c1c1f9",
       "version_major": 2,
       "version_minor": 0
      },
      "text/plain": [
       "HBox(children=(FloatProgress(value=0.0, layout=Layout(flex='2'), max=14.0), HTML(value='')), layout=Layout(dis…"
      ]
     },
     "metadata": {},
     "output_type": "display_data"
    },
    {
     "name": "stdout",
     "output_type": "stream",
     "text": [
      "\n",
      "Report sv_A_1_report.html was generated! NOTEBOOK/COLAB USERS: the web browser MAY not pop up, regardless, the report IS saved in your notebook/colab files.\n"
     ]
    },
    {
     "data": {
      "application/vnd.jupyter.widget-view+json": {
       "model_id": "d5089f59330a4fdd8da6e7b32a464e05",
       "version_major": 2,
       "version_minor": 0
      },
      "text/plain": [
       "HBox(children=(FloatProgress(value=0.0, layout=Layout(flex='2'), max=9.0), HTML(value='')), layout=Layout(disp…"
      ]
     },
     "metadata": {},
     "output_type": "display_data"
    },
    {
     "name": "stdout",
     "output_type": "stream",
     "text": [
      "\n",
      "Report sv_A_2_report.html was generated! NOTEBOOK/COLAB USERS: the web browser MAY not pop up, regardless, the report IS saved in your notebook/colab files.\n"
     ]
    },
    {
     "data": {
      "application/vnd.jupyter.widget-view+json": {
       "model_id": "b3240f3e92d042159a3f8de491cb48a5",
       "version_major": 2,
       "version_minor": 0
      },
      "text/plain": [
       "HBox(children=(FloatProgress(value=0.0, layout=Layout(flex='2'), max=25.0), HTML(value='')), layout=Layout(dis…"
      ]
     },
     "metadata": {},
     "output_type": "display_data"
    },
    {
     "name": "stdout",
     "output_type": "stream",
     "text": [
      "\n",
      "Report sv_B_0_report.html was generated! NOTEBOOK/COLAB USERS: the web browser MAY not pop up, regardless, the report IS saved in your notebook/colab files.\n"
     ]
    },
    {
     "data": {
      "application/vnd.jupyter.widget-view+json": {
       "model_id": "256a2ca4fbf642d5b3761b889967c5a6",
       "version_major": 2,
       "version_minor": 0
      },
      "text/plain": [
       "HBox(children=(FloatProgress(value=0.0, layout=Layout(flex='2'), max=14.0), HTML(value='')), layout=Layout(dis…"
      ]
     },
     "metadata": {},
     "output_type": "display_data"
    },
    {
     "name": "stdout",
     "output_type": "stream",
     "text": [
      "\n",
      "Report sv_B_1_report.html was generated! NOTEBOOK/COLAB USERS: the web browser MAY not pop up, regardless, the report IS saved in your notebook/colab files.\n"
     ]
    },
    {
     "data": {
      "application/vnd.jupyter.widget-view+json": {
       "model_id": "3d3c83221fc14f23b774925ca9bc494c",
       "version_major": 2,
       "version_minor": 0
      },
      "text/plain": [
       "HBox(children=(FloatProgress(value=0.0, layout=Layout(flex='2'), max=9.0), HTML(value='')), layout=Layout(disp…"
      ]
     },
     "metadata": {},
     "output_type": "display_data"
    },
    {
     "name": "stdout",
     "output_type": "stream",
     "text": [
      "\n",
      "Report sv_B_2_report.html was generated! NOTEBOOK/COLAB USERS: the web browser MAY not pop up, regardless, the report IS saved in your notebook/colab files.\n"
     ]
    },
    {
     "data": {
      "application/vnd.jupyter.widget-view+json": {
       "model_id": "837c0288fcaf413ca617802c691c03aa",
       "version_major": 2,
       "version_minor": 0
      },
      "text/plain": [
       "HBox(children=(FloatProgress(value=0.0, layout=Layout(flex='2'), max=25.0), HTML(value='')), layout=Layout(dis…"
      ]
     },
     "metadata": {},
     "output_type": "display_data"
    },
    {
     "name": "stdout",
     "output_type": "stream",
     "text": [
      "\n",
      "Report sv_C_0_report.html was generated! NOTEBOOK/COLAB USERS: the web browser MAY not pop up, regardless, the report IS saved in your notebook/colab files.\n"
     ]
    },
    {
     "data": {
      "application/vnd.jupyter.widget-view+json": {
       "model_id": "4bfb3faa00194cf59db7c75c829402b9",
       "version_major": 2,
       "version_minor": 0
      },
      "text/plain": [
       "HBox(children=(FloatProgress(value=0.0, layout=Layout(flex='2'), max=14.0), HTML(value='')), layout=Layout(dis…"
      ]
     },
     "metadata": {},
     "output_type": "display_data"
    },
    {
     "name": "stdout",
     "output_type": "stream",
     "text": [
      "\n",
      "Report sv_C_1_report.html was generated! NOTEBOOK/COLAB USERS: the web browser MAY not pop up, regardless, the report IS saved in your notebook/colab files.\n"
     ]
    },
    {
     "data": {
      "application/vnd.jupyter.widget-view+json": {
       "model_id": "62cef2beeb8446a8b37923791389cbe5",
       "version_major": 2,
       "version_minor": 0
      },
      "text/plain": [
       "HBox(children=(FloatProgress(value=0.0, layout=Layout(flex='2'), max=9.0), HTML(value='')), layout=Layout(disp…"
      ]
     },
     "metadata": {},
     "output_type": "display_data"
    },
    {
     "name": "stdout",
     "output_type": "stream",
     "text": [
      "\n",
      "Report sv_C_2_report.html was generated! NOTEBOOK/COLAB USERS: the web browser MAY not pop up, regardless, the report IS saved in your notebook/colab files.\n"
     ]
    },
    {
     "data": {
      "application/vnd.jupyter.widget-view+json": {
       "model_id": "f9769991f7bd42c3961ef901a9e84cea",
       "version_major": 2,
       "version_minor": 0
      },
      "text/plain": [
       "HBox(children=(FloatProgress(value=0.0, layout=Layout(flex='2'), max=25.0), HTML(value='')), layout=Layout(dis…"
      ]
     },
     "metadata": {},
     "output_type": "display_data"
    },
    {
     "name": "stdout",
     "output_type": "stream",
     "text": [
      "\n",
      "Report sv_A1_0_report.html was generated! NOTEBOOK/COLAB USERS: the web browser MAY not pop up, regardless, the report IS saved in your notebook/colab files.\n"
     ]
    },
    {
     "data": {
      "application/vnd.jupyter.widget-view+json": {
       "model_id": "0d12e68904274306b793fda4d36b7771",
       "version_major": 2,
       "version_minor": 0
      },
      "text/plain": [
       "HBox(children=(FloatProgress(value=0.0, layout=Layout(flex='2'), max=13.0), HTML(value='')), layout=Layout(dis…"
      ]
     },
     "metadata": {},
     "output_type": "display_data"
    },
    {
     "name": "stdout",
     "output_type": "stream",
     "text": [
      "\n",
      "Report sv_A1_1_report.html was generated! NOTEBOOK/COLAB USERS: the web browser MAY not pop up, regardless, the report IS saved in your notebook/colab files.\n"
     ]
    },
    {
     "data": {
      "application/vnd.jupyter.widget-view+json": {
       "model_id": "c93ba70e87204ef8a3df35939dcda66a",
       "version_major": 2,
       "version_minor": 0
      },
      "text/plain": [
       "HBox(children=(FloatProgress(value=0.0, layout=Layout(flex='2'), max=9.0), HTML(value='')), layout=Layout(disp…"
      ]
     },
     "metadata": {},
     "output_type": "display_data"
    },
    {
     "name": "stdout",
     "output_type": "stream",
     "text": [
      "\n",
      "Report sv_A1_2_report.html was generated! NOTEBOOK/COLAB USERS: the web browser MAY not pop up, regardless, the report IS saved in your notebook/colab files.\n"
     ]
    },
    {
     "data": {
      "application/vnd.jupyter.widget-view+json": {
       "model_id": "1a0459d995bf436593a56c8add6078ec",
       "version_major": 2,
       "version_minor": 0
      },
      "text/plain": [
       "HBox(children=(FloatProgress(value=0.0, layout=Layout(flex='2'), max=25.0), HTML(value='')), layout=Layout(dis…"
      ]
     },
     "metadata": {},
     "output_type": "display_data"
    },
    {
     "name": "stdout",
     "output_type": "stream",
     "text": [
      "\n",
      "Report sv_A2_0_report.html was generated! NOTEBOOK/COLAB USERS: the web browser MAY not pop up, regardless, the report IS saved in your notebook/colab files.\n"
     ]
    },
    {
     "data": {
      "application/vnd.jupyter.widget-view+json": {
       "model_id": "7b8ea52181484145b64d420759f34a6f",
       "version_major": 2,
       "version_minor": 0
      },
      "text/plain": [
       "HBox(children=(FloatProgress(value=0.0, layout=Layout(flex='2'), max=14.0), HTML(value='')), layout=Layout(dis…"
      ]
     },
     "metadata": {},
     "output_type": "display_data"
    },
    {
     "name": "stdout",
     "output_type": "stream",
     "text": [
      "\n",
      "Report sv_A2_1_report.html was generated! NOTEBOOK/COLAB USERS: the web browser MAY not pop up, regardless, the report IS saved in your notebook/colab files.\n"
     ]
    },
    {
     "data": {
      "application/vnd.jupyter.widget-view+json": {
       "model_id": "34a1dd9ed0b54b24bd9bff80f0936370",
       "version_major": 2,
       "version_minor": 0
      },
      "text/plain": [
       "HBox(children=(FloatProgress(value=0.0, layout=Layout(flex='2'), max=9.0), HTML(value='')), layout=Layout(disp…"
      ]
     },
     "metadata": {},
     "output_type": "display_data"
    },
    {
     "name": "stdout",
     "output_type": "stream",
     "text": [
      "\n",
      "Report sv_A2_2_report.html was generated! NOTEBOOK/COLAB USERS: the web browser MAY not pop up, regardless, the report IS saved in your notebook/colab files.\n"
     ]
    },
    {
     "data": {
      "application/vnd.jupyter.widget-view+json": {
       "model_id": "7d991f4909484054b40b63c85d9b4af5",
       "version_major": 2,
       "version_minor": 0
      },
      "text/plain": [
       "HBox(children=(FloatProgress(value=0.0, layout=Layout(flex='2'), max=25.0), HTML(value='')), layout=Layout(dis…"
      ]
     },
     "metadata": {},
     "output_type": "display_data"
    },
    {
     "name": "stdout",
     "output_type": "stream",
     "text": [
      "\n",
      "Report sv_A3_0_report.html was generated! NOTEBOOK/COLAB USERS: the web browser MAY not pop up, regardless, the report IS saved in your notebook/colab files.\n"
     ]
    },
    {
     "data": {
      "application/vnd.jupyter.widget-view+json": {
       "model_id": "cac2a3ede4474a9ea54090d293a70512",
       "version_major": 2,
       "version_minor": 0
      },
      "text/plain": [
       "HBox(children=(FloatProgress(value=0.0, layout=Layout(flex='2'), max=14.0), HTML(value='')), layout=Layout(dis…"
      ]
     },
     "metadata": {},
     "output_type": "display_data"
    },
    {
     "name": "stdout",
     "output_type": "stream",
     "text": [
      "\n",
      "Report sv_A3_1_report.html was generated! NOTEBOOK/COLAB USERS: the web browser MAY not pop up, regardless, the report IS saved in your notebook/colab files.\n"
     ]
    },
    {
     "data": {
      "application/vnd.jupyter.widget-view+json": {
       "model_id": "13f017d96ee64660a99154cddfe03f99",
       "version_major": 2,
       "version_minor": 0
      },
      "text/plain": [
       "HBox(children=(FloatProgress(value=0.0, layout=Layout(flex='2'), max=9.0), HTML(value='')), layout=Layout(disp…"
      ]
     },
     "metadata": {},
     "output_type": "display_data"
    },
    {
     "name": "stdout",
     "output_type": "stream",
     "text": [
      "\n",
      "Report sv_A3_2_report.html was generated! NOTEBOOK/COLAB USERS: the web browser MAY not pop up, regardless, the report IS saved in your notebook/colab files.\n"
     ]
    }
   ],
   "source": [
    "import sweetviz as sv\n",
    "my_report = sv.analyze(data['A'][2])\n",
    "my_report.show_html()\n",
    "\n",
    "for p in PLACES:\n",
    "    for i in range(3):\n",
    "        my_report = sv.analyze(data[p][i])\n",
    "        my_report.show_html(Path(f\"./sv_{p}_{i}_report.html\"))"
   ]
  },
  {
   "cell_type": "code",
   "execution_count": 3,
   "metadata": {},
   "outputs": [
    {
     "name": "stdout",
     "output_type": "stream",
     "text": [
      "dict_keys(['A', 'B', 'C', 'A1', 'A2', 'A3'])\n",
      "dict_keys([0, 1, 2])\n"
     ]
    }
   ],
   "source": [
    "print(data.keys())\n",
    "print(data['A'].keys())\n",
    "# for p in PLACES:\n",
    "#     for i in range(3): \n",
    "#         print(data[p][i].min())"
   ]
  },
  {
   "cell_type": "markdown",
   "metadata": {},
   "source": [
    "# 数据处理\n",
    "- 缺失值填充\n",
    "- 负值替换"
   ]
  },
  {
   "cell_type": "code",
   "execution_count": null,
   "metadata": {},
   "outputs": [],
   "source": [
    "def create_new_table_for_place(p):\n",
    "    writer = pd.ExcelWriter(\"../data/\" + p + '.xlsx', engine='xlsxwriter')\n",
    "    for i in range(3):\n",
    "        df = data[p][i]\n",
    "        # 数值化\n",
    "        index = list(df.columns).index('地点')+1\n",
    "        df1 = df[df.columns[index:]]\n",
    "        # 异常值处理\n",
    "        df1 = df1.apply(pd.to_numeric, errors='coerce')\n",
    "        # 负值处理\n",
    "        num = df1._get_numeric_data()\n",
    "        num[num < 0] = np.nan\n",
    "        # 空值用中位数填充\n",
    "        df1 = df1.fillna(df.median(numeric_only=True))\n",
    "        df[df.columns[index:]] = df1\n",
    "        df.to_excel(writer, sheet_name=str(i))\n",
    "        \n",
    "    writer.save()\n",
    "for p in PLACES:\n",
    "    create_new_table_for_place(p)\n",
    "\n",
    "# create_new_table_for_place(PLACES[0])"
   ]
  },
  {
   "cell_type": "code",
   "execution_count": 173,
   "metadata": {},
   "outputs": [
    {
     "data": {
      "text/plain": [
       "Unnamed: 0            0\n",
       "监测时间                  0\n",
       "地点                    0\n",
       "SO2监测浓度(μg/m³)      231\n",
       "NO2监测浓度(μg/m³)        0\n",
       "PM10监测浓度(μg/m³)       0\n",
       "PM2.5监测浓度(μg/m³)      0\n",
       "O3监测浓度(μg/m³)         0\n",
       "CO监测浓度(mg/m³)         0\n",
       "温度(℃)                 0\n",
       "湿度(%)                 0\n",
       "气压(MBar)              0\n",
       "风速(m/s)               0\n",
       "风向(°)                 0\n",
       "dtype: int64"
      ]
     },
     "execution_count": 173,
     "metadata": {},
     "output_type": "execute_result"
    }
   ],
   "source": [
    "df = pd.read_excel(\"../data/{}.xlsx\".format('A'), engine='openpyxl', sheet_name=None)\n",
    "df = df['1']\n",
    "df.isna().sum()"
   ]
  },
  {
   "cell_type": "code",
   "execution_count": 176,
   "metadata": {},
   "outputs": [
    {
     "name": "stderr",
     "output_type": "stream",
     "text": [
      "<ipython-input-176-42328c050328>:1: FutureWarning: DataFrame.mean and DataFrame.median with numeric_only=None will include datetime64 and datetime64tz columns in a future version.\n",
      "  df.fillna(df.mean()).iloc[500]\n"
     ]
    },
    {
     "data": {
      "text/plain": [
       "Unnamed: 0                          500\n",
       "监测时间                2019-05-06 21:00:00\n",
       "地点                                 监测点A\n",
       "SO2监测浓度(μg/m³)                  6.99734\n",
       "NO2监测浓度(μg/m³)                       27\n",
       "PM10监测浓度(μg/m³)                      38\n",
       "PM2.5监测浓度(μg/m³)                     19\n",
       "O3监测浓度(μg/m³)                        41\n",
       "CO监测浓度(mg/m³)                       0.7\n",
       "温度(℃)                              26.1\n",
       "湿度(%)                                71\n",
       "气压(MBar)                           1010\n",
       "风速(m/s)                             1.3\n",
       "风向(°)                            108.55\n",
       "Name: 500, dtype: object"
      ]
     },
     "execution_count": 176,
     "metadata": {},
     "output_type": "execute_result"
    }
   ],
   "source": [
    "df.fillna(df.mean()).iloc[500]"
   ]
  },
  {
   "cell_type": "code",
   "execution_count": 177,
   "metadata": {},
   "outputs": [
    {
     "data": {
      "text/plain": [
       "Unnamed: 0                          500\n",
       "监测时间                2019-05-06 21:00:00\n",
       "地点                                 监测点A\n",
       "SO2监测浓度(μg/m³)                      NaN\n",
       "NO2监测浓度(μg/m³)                       27\n",
       "PM10监测浓度(μg/m³)                      38\n",
       "PM2.5监测浓度(μg/m³)                     19\n",
       "O3监测浓度(μg/m³)                        41\n",
       "CO监测浓度(mg/m³)                       0.7\n",
       "温度(℃)                              26.1\n",
       "湿度(%)                                71\n",
       "气压(MBar)                           1010\n",
       "风速(m/s)                             1.3\n",
       "风向(°)                            108.55\n",
       "Name: 500, dtype: object"
      ]
     },
     "execution_count": 177,
     "metadata": {},
     "output_type": "execute_result"
    }
   ],
   "source": [
    "df.iloc[500]"
   ]
  },
  {
   "cell_type": "code",
   "execution_count": 159,
   "metadata": {},
   "outputs": [],
   "source": [
    "# 数值化\n",
    "index = list(df.columns).index('地点')+1\n",
    "df1 = df[df.columns[index+1:]]\n",
    "# 异常值处理\n",
    "df1 = df1.apply(pd.to_numeric, errors='coerce')\n",
    "# 负值处理\n",
    "num = df1._get_numeric_data()\n",
    "num[num < 0] = np.nan\n",
    "# 空值用中位数填充\n",
    "df1 = df1.fillna(df.median(numeric_only=True))\n",
    "df[df.columns[index+1:]] = df1"
   ]
  },
  {
   "cell_type": "code",
   "execution_count": 160,
   "metadata": {},
   "outputs": [
    {
     "data": {
      "text/plain": [
       "Unnamed: 0                          208\n",
       "监测时间                2019-04-24 16:00:00\n",
       "地点                                 监测点A\n",
       "SO2监测浓度(μg/m³)                        —\n",
       "NO2监测浓度(μg/m³)                       27\n",
       "PM10监测浓度(μg/m³)                      38\n",
       "PM2.5监测浓度(μg/m³)                     19\n",
       "O3监测浓度(μg/m³)                        41\n",
       "CO监测浓度(mg/m³)                       0.7\n",
       "温度(℃)                              26.1\n",
       "湿度(%)                                71\n",
       "气压(MBar)                           1010\n",
       "风速(m/s)                             1.3\n",
       "风向(°)                            108.55\n",
       "Name: 208, dtype: object"
      ]
     },
     "execution_count": 160,
     "metadata": {},
     "output_type": "execute_result"
    }
   ],
   "source": [
    "df.iloc[208]"
   ]
  },
  {
   "cell_type": "code",
   "execution_count": 165,
   "metadata": {},
   "outputs": [
    {
     "data": {
      "text/plain": [
       "Index(['SO2监测浓度(μg/m³)', 'NO2监测浓度(μg/m³)', 'PM10监测浓度(μg/m³)',\n",
       "       'PM2.5监测浓度(μg/m³)', 'O3监测浓度(μg/m³)', 'CO监测浓度(mg/m³)', '温度(℃)', '湿度(%)',\n",
       "       '气压(MBar)', '风速(m/s)', '风向(°)'],\n",
       "      dtype='object')"
      ]
     },
     "execution_count": 165,
     "metadata": {},
     "output_type": "execute_result"
    }
   ],
   "source": [
    "df.columns[index:]"
   ]
  },
  {
   "cell_type": "markdown",
   "metadata": {},
   "source": [
    "## 预处理完分析"
   ]
  },
  {
   "cell_type": "code",
   "execution_count": 151,
   "metadata": {},
   "outputs": [
    {
     "data": {
      "text/plain": [
       "监测时间                2019-04-23 14:00:00\n",
       "地点                                 监测点A\n",
       "SO2监测浓度(μg/m³)                        5\n",
       "NO2监测浓度(μg/m³)                       14\n",
       "PM10监测浓度(μg/m³)                      26\n",
       "PM2.5监测浓度(μg/m³)                     13\n",
       "O3监测浓度(μg/m³)                        41\n",
       "CO监测浓度(mg/m³)                       0.4\n",
       "温度(℃)                              32.2\n",
       "湿度(%)                                59\n",
       "气压(MBar)                           1007\n",
       "风速(m/s)                               2\n",
       "风向(°)                             235.6\n",
       "Name: 182, dtype: object"
      ]
     },
     "execution_count": 151,
     "metadata": {},
     "output_type": "execute_result"
    }
   ],
   "source": [
    "df = data['A'][1]\n",
    "index = list(data['A'][0].columns).index('地点')+1\n",
    "df1 = df[df.columns[index+1:]]\n",
    "# 异常值处理\n",
    "df1 = df1.apply(pd.to_numeric, errors='coerce')\n",
    "# 负值处理\n",
    "num = df1._get_numeric_data()\n",
    "num[num < 0] = np.nan\n",
    "# 空值用中位数填充\n",
    "df1 = df1.fillna(df.median(numeric_only=True))\n",
    "df[df.columns[index+1:]] = df1\n",
    "df.iloc[182]"
   ]
  },
  {
   "cell_type": "code",
   "execution_count": 135,
   "metadata": {},
   "outputs": [
    {
     "data": {
      "text/plain": [
       "pandas.core.indexes.base.Index"
      ]
     },
     "execution_count": 135,
     "metadata": {},
     "output_type": "execute_result"
    }
   ],
   "source": [
    "type(data['A'][0].columns)"
   ]
  },
  {
   "cell_type": "code",
   "execution_count": 129,
   "metadata": {},
   "outputs": [
    {
     "data": {
      "text/plain": [
       "Index(['模型运行日期', '预测时间', '地点', '近地2米温度（℃）', '地表温度（K）', '比湿（kg/kg）', '湿度（%）',\n",
       "       '近地10米风速（m/s）', '近地10米风向（°）', '雨量（mm）', '云量', '边界层高度（m）', '大气压（Kpa）',\n",
       "       '感热通量（W/m²）', '潜热通量（W/m²）', '长波辐射（W/m²）', '短波辐射（W/m²）', '地面太阳能辐射（W/m²）',\n",
       "       'SO2小时平均浓度(μg/m³)', 'NO2小时平均浓度(μg/m³)', 'PM10小时平均浓度(μg/m³)',\n",
       "       'PM2.5小时平均浓度(μg/m³)', 'O3小时平均浓度(μg/m³)', 'CO小时平均浓度(mg/m³)'],\n",
       "      dtype='object')"
      ]
     },
     "execution_count": 129,
     "metadata": {},
     "output_type": "execute_result"
    }
   ],
   "source": [
    "data['A'][0].columns"
   ]
  },
  {
   "cell_type": "code",
   "execution_count": 125,
   "metadata": {},
   "outputs": [
    {
     "data": {
      "text/plain": [
       "2"
      ]
     },
     "execution_count": 125,
     "metadata": {},
     "output_type": "execute_result"
    }
   ],
   "source": [
    "list(data['A'][0].columns).index('地点')"
   ]
  },
  {
   "cell_type": "code",
   "execution_count": null,
   "metadata": {},
   "outputs": [],
   "source": [
    "data['A'][0].columns.get_indexer_for"
   ]
  },
  {
   "cell_type": "code",
   "execution_count": 99,
   "metadata": {},
   "outputs": [
    {
     "data": {
      "text/plain": [
       "监测时间                2019-04-23 14:00:00\n",
       "地点                                 监测点A\n",
       "SO2监测浓度(μg/m³)                        5\n",
       "NO2监测浓度(μg/m³)                       14\n",
       "PM10监测浓度(μg/m³)                      26\n",
       "PM2.5监测浓度(μg/m³)                     13\n",
       "O3监测浓度(μg/m³)                         —\n",
       "CO监测浓度(mg/m³)                       0.4\n",
       "温度(℃)                              32.2\n",
       "湿度(%)                                59\n",
       "气压(MBar)                           1007\n",
       "风速(m/s)                               2\n",
       "风向(°)                             235.6\n",
       "Name: 182, dtype: object"
      ]
     },
     "execution_count": 99,
     "metadata": {},
     "output_type": "execute_result"
    }
   ],
   "source": [
    "df.iloc[182]"
   ]
  },
  {
   "cell_type": "code",
   "execution_count": 96,
   "metadata": {},
   "outputs": [
    {
     "data": {
      "text/plain": [
       "监测时间                1.556028e+18\n",
       "地点                           NaN\n",
       "SO2监测浓度(μg/m³)      5.000000e+00\n",
       "NO2监测浓度(μg/m³)      1.400000e+01\n",
       "PM10监测浓度(μg/m³)     2.600000e+01\n",
       "PM2.5监测浓度(μg/m³)    1.300000e+01\n",
       "O3监测浓度(μg/m³)                NaN\n",
       "CO监测浓度(mg/m³)       4.000000e-01\n",
       "温度(℃)               3.220000e+01\n",
       "湿度(%)               5.900000e+01\n",
       "气压(MBar)            1.007000e+03\n",
       "风速(m/s)             2.000000e+00\n",
       "风向(°)               2.356000e+02\n",
       "Name: 182, dtype: float64"
      ]
     },
     "execution_count": 96,
     "metadata": {},
     "output_type": "execute_result"
    }
   ],
   "source": [
    "df.apply(pd.to_numeric, errors='coerce')"
   ]
  },
  {
   "cell_type": "code",
   "execution_count": 89,
   "metadata": {},
   "outputs": [
    {
     "data": {
      "text/plain": [
       "0"
      ]
     },
     "execution_count": 89,
     "metadata": {},
     "output_type": "execute_result"
    }
   ],
   "source": [
    "df[\"SO2监测浓度(μg/m³)\"].isna().sum()"
   ]
  },
  {
   "cell_type": "markdown",
   "metadata": {},
   "source": [
    "## 预处理完分析"
   ]
  },
  {
   "cell_type": "code",
   "execution_count": 33,
   "metadata": {},
   "outputs": [],
   "source": [
    "for p in PLACES:\n",
    "    df = pd.read_excel(\"../data/{}.xlsx\".format(p), engine='openpyxl', sheet_name=None)\n",
    "    for i in range(3):\n",
    "        num = df[str(i)]._get_numeric_data()\n",
    "        if (num<0).sum().sum() != 0:\n",
    "            print(p,i)"
   ]
  },
  {
   "cell_type": "code",
   "execution_count": 152,
   "metadata": {},
   "outputs": [
    {
     "name": "stderr",
     "output_type": "stream",
     "text": [
      "<ipython-input-152-d9c0a795b43a>:3: FutureWarning: DataFrame.mean and DataFrame.median with numeric_only=None will include datetime64 and datetime64tz columns in a future version.\n",
      "  df.fillna(df.mean()).iloc[182]\n"
     ]
    },
    {
     "data": {
      "text/plain": [
       "Unnamed: 0                          182\n",
       "监测时间                2019-04-23 14:00:00\n",
       "地点                                 监测点A\n",
       "SO2监测浓度(μg/m³)                        5\n",
       "NO2监测浓度(μg/m³)                       14\n",
       "PM10监测浓度(μg/m³)                      26\n",
       "PM2.5监测浓度(μg/m³)                     13\n",
       "O3监测浓度(μg/m³)                        41\n",
       "CO监测浓度(mg/m³)                       0.4\n",
       "温度(℃)                              32.2\n",
       "湿度(%)                                59\n",
       "气压(MBar)                           1007\n",
       "风速(m/s)                               2\n",
       "风向(°)                             235.6\n",
       "Name: 182, dtype: object"
      ]
     },
     "execution_count": 152,
     "metadata": {},
     "output_type": "execute_result"
    }
   ],
   "source": [
    "df = pd.read_excel(\"../data/{}.xlsx\".format('A'), engine='openpyxl', sheet_name=None)\n",
    "df = df['1']\n",
    "df.fillna(df.mean()).iloc[182]"
   ]
  },
  {
   "cell_type": "code",
   "execution_count": 153,
   "metadata": {},
   "outputs": [
    {
     "data": {
      "text/plain": [
       "Unnamed: 0                          182\n",
       "监测时间                2019-04-23 14:00:00\n",
       "地点                                 监测点A\n",
       "SO2监测浓度(μg/m³)                        5\n",
       "NO2监测浓度(μg/m³)                       14\n",
       "PM10监测浓度(μg/m³)                      26\n",
       "PM2.5监测浓度(μg/m³)                     13\n",
       "O3监测浓度(μg/m³)                        41\n",
       "CO监测浓度(mg/m³)                       0.4\n",
       "温度(℃)                              32.2\n",
       "湿度(%)                                59\n",
       "气压(MBar)                           1007\n",
       "风速(m/s)                               2\n",
       "风向(°)                             235.6\n",
       "Name: 182, dtype: object"
      ]
     },
     "execution_count": 153,
     "metadata": {},
     "output_type": "execute_result"
    }
   ],
   "source": [
    "df.iloc[182]"
   ]
  },
  {
   "cell_type": "code",
   "execution_count": 110,
   "metadata": {},
   "outputs": [
    {
     "data": {
      "text/html": [
       "<div>\n",
       "<style scoped>\n",
       "    .dataframe tbody tr th:only-of-type {\n",
       "        vertical-align: middle;\n",
       "    }\n",
       "\n",
       "    .dataframe tbody tr th {\n",
       "        vertical-align: top;\n",
       "    }\n",
       "\n",
       "    .dataframe thead th {\n",
       "        text-align: right;\n",
       "    }\n",
       "</style>\n",
       "<table border=\"1\" class=\"dataframe\">\n",
       "  <thead>\n",
       "    <tr style=\"text-align: right;\">\n",
       "      <th></th>\n",
       "      <th>Unnamed: 0</th>\n",
       "      <th>监测时间</th>\n",
       "      <th>地点</th>\n",
       "      <th>SO2监测浓度(μg/m³)</th>\n",
       "      <th>NO2监测浓度(μg/m³)</th>\n",
       "      <th>PM10监测浓度(μg/m³)</th>\n",
       "      <th>PM2.5监测浓度(μg/m³)</th>\n",
       "      <th>O3监测浓度(μg/m³)</th>\n",
       "      <th>CO监测浓度(mg/m³)</th>\n",
       "      <th>温度(℃)</th>\n",
       "      <th>湿度(%)</th>\n",
       "      <th>气压(MBar)</th>\n",
       "      <th>风速(m/s)</th>\n",
       "      <th>风向(°)</th>\n",
       "    </tr>\n",
       "  </thead>\n",
       "  <tbody>\n",
       "    <tr>\n",
       "      <th>0</th>\n",
       "      <td>0</td>\n",
       "      <td>1555372800000000000</td>\n",
       "      <td>NaN</td>\n",
       "      <td>5</td>\n",
       "      <td>75</td>\n",
       "      <td>61</td>\n",
       "      <td>38</td>\n",
       "      <td>1</td>\n",
       "      <td>1.0</td>\n",
       "      <td>21.1</td>\n",
       "      <td>89</td>\n",
       "      <td>1013.0</td>\n",
       "      <td>1.2</td>\n",
       "      <td>346.5</td>\n",
       "    </tr>\n",
       "    <tr>\n",
       "      <th>1</th>\n",
       "      <td>1</td>\n",
       "      <td>1555376400000000000</td>\n",
       "      <td>NaN</td>\n",
       "      <td>5</td>\n",
       "      <td>64</td>\n",
       "      <td>60</td>\n",
       "      <td>41</td>\n",
       "      <td>25</td>\n",
       "      <td>0.8</td>\n",
       "      <td>20.4</td>\n",
       "      <td>92</td>\n",
       "      <td>1012.4</td>\n",
       "      <td>1.1</td>\n",
       "      <td>18.0</td>\n",
       "    </tr>\n",
       "    <tr>\n",
       "      <th>2</th>\n",
       "      <td>2</td>\n",
       "      <td>1555380000000000000</td>\n",
       "      <td>NaN</td>\n",
       "      <td>4</td>\n",
       "      <td>60</td>\n",
       "      <td>36</td>\n",
       "      <td>40</td>\n",
       "      <td>25</td>\n",
       "      <td>0.8</td>\n",
       "      <td>20.0</td>\n",
       "      <td>93</td>\n",
       "      <td>1011.3</td>\n",
       "      <td>1.1</td>\n",
       "      <td>65.9</td>\n",
       "    </tr>\n",
       "    <tr>\n",
       "      <th>3</th>\n",
       "      <td>3</td>\n",
       "      <td>1555383600000000000</td>\n",
       "      <td>NaN</td>\n",
       "      <td>4</td>\n",
       "      <td>39</td>\n",
       "      <td>35</td>\n",
       "      <td>33</td>\n",
       "      <td>41</td>\n",
       "      <td>0.7</td>\n",
       "      <td>19.8</td>\n",
       "      <td>93</td>\n",
       "      <td>1010.4</td>\n",
       "      <td>1.5</td>\n",
       "      <td>78.4</td>\n",
       "    </tr>\n",
       "    <tr>\n",
       "      <th>4</th>\n",
       "      <td>4</td>\n",
       "      <td>1555387200000000000</td>\n",
       "      <td>NaN</td>\n",
       "      <td>4</td>\n",
       "      <td>39</td>\n",
       "      <td>28</td>\n",
       "      <td>39</td>\n",
       "      <td>36</td>\n",
       "      <td>0.8</td>\n",
       "      <td>19.9</td>\n",
       "      <td>92</td>\n",
       "      <td>1010.0</td>\n",
       "      <td>1.5</td>\n",
       "      <td>73.5</td>\n",
       "    </tr>\n",
       "    <tr>\n",
       "      <th>...</th>\n",
       "      <td>...</td>\n",
       "      <td>...</td>\n",
       "      <td>...</td>\n",
       "      <td>...</td>\n",
       "      <td>...</td>\n",
       "      <td>...</td>\n",
       "      <td>...</td>\n",
       "      <td>...</td>\n",
       "      <td>...</td>\n",
       "      <td>...</td>\n",
       "      <td>...</td>\n",
       "      <td>...</td>\n",
       "      <td>...</td>\n",
       "      <td>...</td>\n",
       "    </tr>\n",
       "    <tr>\n",
       "      <th>19427</th>\n",
       "      <td>19427</td>\n",
       "      <td>1626145200000000000</td>\n",
       "      <td>NaN</td>\n",
       "      <td>6</td>\n",
       "      <td>12</td>\n",
       "      <td>12</td>\n",
       "      <td>0</td>\n",
       "      <td>14</td>\n",
       "      <td>0.4</td>\n",
       "      <td>29.2</td>\n",
       "      <td>78</td>\n",
       "      <td>1006.2</td>\n",
       "      <td>0.8</td>\n",
       "      <td>350.5</td>\n",
       "    </tr>\n",
       "    <tr>\n",
       "      <th>19428</th>\n",
       "      <td>19428</td>\n",
       "      <td>1626148800000000000</td>\n",
       "      <td>NaN</td>\n",
       "      <td>7</td>\n",
       "      <td>15</td>\n",
       "      <td>9</td>\n",
       "      <td>0</td>\n",
       "      <td>11</td>\n",
       "      <td>0.4</td>\n",
       "      <td>29.2</td>\n",
       "      <td>78</td>\n",
       "      <td>1006.3</td>\n",
       "      <td>0.7</td>\n",
       "      <td>246.3</td>\n",
       "    </tr>\n",
       "    <tr>\n",
       "      <th>19429</th>\n",
       "      <td>19429</td>\n",
       "      <td>1626152400000000000</td>\n",
       "      <td>NaN</td>\n",
       "      <td>9</td>\n",
       "      <td>19</td>\n",
       "      <td>9</td>\n",
       "      <td>2</td>\n",
       "      <td>8</td>\n",
       "      <td>0.4</td>\n",
       "      <td>29.2</td>\n",
       "      <td>78</td>\n",
       "      <td>1006.4</td>\n",
       "      <td>1.0</td>\n",
       "      <td>253.2</td>\n",
       "    </tr>\n",
       "    <tr>\n",
       "      <th>19430</th>\n",
       "      <td>19430</td>\n",
       "      <td>1626156000000000000</td>\n",
       "      <td>NaN</td>\n",
       "      <td>8</td>\n",
       "      <td>20</td>\n",
       "      <td>22</td>\n",
       "      <td>5</td>\n",
       "      <td>6</td>\n",
       "      <td>0.4</td>\n",
       "      <td>29.0</td>\n",
       "      <td>81</td>\n",
       "      <td>1006.8</td>\n",
       "      <td>0.5</td>\n",
       "      <td>267.9</td>\n",
       "    </tr>\n",
       "    <tr>\n",
       "      <th>19431</th>\n",
       "      <td>19431</td>\n",
       "      <td>1626159600000000000</td>\n",
       "      <td>NaN</td>\n",
       "      <td>8</td>\n",
       "      <td>14</td>\n",
       "      <td>38</td>\n",
       "      <td>5</td>\n",
       "      <td>19</td>\n",
       "      <td>0.4</td>\n",
       "      <td>30.2</td>\n",
       "      <td>75</td>\n",
       "      <td>1007.0</td>\n",
       "      <td>1.2</td>\n",
       "      <td>240.9</td>\n",
       "    </tr>\n",
       "  </tbody>\n",
       "</table>\n",
       "<p>19432 rows × 14 columns</p>\n",
       "</div>"
      ],
      "text/plain": [
       "       Unnamed: 0                 监测时间  地点  SO2监测浓度(μg/m³)  NO2监测浓度(μg/m³)  \\\n",
       "0               0  1555372800000000000 NaN               5              75   \n",
       "1               1  1555376400000000000 NaN               5              64   \n",
       "2               2  1555380000000000000 NaN               4              60   \n",
       "3               3  1555383600000000000 NaN               4              39   \n",
       "4               4  1555387200000000000 NaN               4              39   \n",
       "...           ...                  ...  ..             ...             ...   \n",
       "19427       19427  1626145200000000000 NaN               6              12   \n",
       "19428       19428  1626148800000000000 NaN               7              15   \n",
       "19429       19429  1626152400000000000 NaN               9              19   \n",
       "19430       19430  1626156000000000000 NaN               8              20   \n",
       "19431       19431  1626159600000000000 NaN               8              14   \n",
       "\n",
       "       PM10监测浓度(μg/m³)  PM2.5监测浓度(μg/m³)  O3监测浓度(μg/m³)  CO监测浓度(mg/m³)  温度(℃)  \\\n",
       "0                   61                38              1            1.0   21.1   \n",
       "1                   60                41             25            0.8   20.4   \n",
       "2                   36                40             25            0.8   20.0   \n",
       "3                   35                33             41            0.7   19.8   \n",
       "4                   28                39             36            0.8   19.9   \n",
       "...                ...               ...            ...            ...    ...   \n",
       "19427               12                 0             14            0.4   29.2   \n",
       "19428                9                 0             11            0.4   29.2   \n",
       "19429                9                 2              8            0.4   29.2   \n",
       "19430               22                 5              6            0.4   29.0   \n",
       "19431               38                 5             19            0.4   30.2   \n",
       "\n",
       "       湿度(%)  气压(MBar)  风速(m/s)  风向(°)  \n",
       "0         89    1013.0      1.2  346.5  \n",
       "1         92    1012.4      1.1   18.0  \n",
       "2         93    1011.3      1.1   65.9  \n",
       "3         93    1010.4      1.5   78.4  \n",
       "4         92    1010.0      1.5   73.5  \n",
       "...      ...       ...      ...    ...  \n",
       "19427     78    1006.2      0.8  350.5  \n",
       "19428     78    1006.3      0.7  246.3  \n",
       "19429     78    1006.4      1.0  253.2  \n",
       "19430     81    1006.8      0.5  267.9  \n",
       "19431     75    1007.0      1.2  240.9  \n",
       "\n",
       "[19432 rows x 14 columns]"
      ]
     },
     "execution_count": 110,
     "metadata": {},
     "output_type": "execute_result"
    }
   ],
   "source": [
    "df"
   ]
  },
  {
   "cell_type": "code",
   "execution_count": 206,
   "metadata": {},
   "outputs": [
    {
     "name": "stderr",
     "output_type": "stream",
     "text": [
      "<ipython-input-206-f44bc60b3c91>:1: FutureWarning: DataFrame.mean and DataFrame.median with numeric_only=None will include datetime64 and datetime64tz columns in a future version.\n",
      "  df['监测点A1逐日污染物浓度实测数据'] = df['监测点A1逐日污染物浓度实测数据'].fillna(df['监测点A1逐日污染物浓度实测数据'].mean())\n"
     ]
    }
   ],
   "source": [
    "df['监测点A1逐日污染物浓度实测数据'] = df['监测点A1逐日污染物浓度实测数据'].fillna(df['监测点A1逐日污染物浓度实测数据'].mean())"
   ]
  },
  {
   "cell_type": "markdown",
   "metadata": {},
   "source": [
    "## 空值分析"
   ]
  },
  {
   "cell_type": "code",
   "execution_count": 117,
   "metadata": {},
   "outputs": [
    {
     "name": "stderr",
     "output_type": "stream",
     "text": [
      "<ipython-input-117-5fff5f5b585c>:17: UserWarning: FixedFormatter should only be used together with FixedLocator\n",
      "  axs[i//3][i%3].set_xticklabels(labels=v.keys(),rotation=45)\n"
     ]
    }
   ],
   "source": [
    "def null_values_analysis(data):\n",
    "    NULL_COUNTS = {}\n",
    "    for p in PLACES:\n",
    "        for t in TYPES:  \n",
    "            if data[p][t].isnull().sum().sum():\n",
    "                NULL_COUNTS.update({p+\"_\"+str(t):data[p][t].isnull().sum()})\n",
    "    return NULL_COUNTS\n",
    "\n",
    "def null_values_analysis_plot(null_table):\n",
    "    fig, axs = plt.subplots(3, 3, figsize=FIGSIZE)\n",
    "    fig.tight_layout(h_pad=10)\n",
    "    fig.suptitle('空值分析', size=20)\n",
    "    \n",
    "    for i, (k,v) in enumerate(null_table.items()):\n",
    "        axs[i//3][i%3].bar(v.keys(), v, 0.35)\n",
    "        axs[i//3][i%3].set_title(k)\n",
    "        axs[i//3][i%3].set_xticklabels(labels=v.keys(),rotation=45)\n",
    "        axs[i//3][i%3].grid(True)\n",
    "\n",
    "    font = {'family': 'serif',\n",
    "            'color':  'darkred',\n",
    "            'weight': 'normal',\n",
    "            'size': 16,\n",
    "            }\n",
    "\n",
    "    plt.savefig(\"results/nan_value_analysis.\"+FORMAT, format=FORMAT)\n",
    "    plt.close()\n",
    "null_table = null_values_analysis(data)\n",
    "null_values_analysis_plot(null_table)"
   ]
  },
  {
   "cell_type": "markdown",
   "metadata": {},
   "source": [
    "# 数据分析\n",
    "下面首先对各量随时间的分布进行分析\n",
    "注意数字和子表格的对应：\n",
    "- 0 逐小时污染物浓度与气象一次预报数据\n",
    "- 1 逐小时污染物浓度与气象实测数据\n",
    "- 2 逐日污染物浓度实测数据\n",
    "\n",
    "## 0 对逐小时污染物浓度与气象一次预报数据的分析"
   ]
  },
  {
   "cell_type": "code",
   "execution_count": 118,
   "metadata": {},
   "outputs": [
    {
     "data": {
      "text/plain": [
       "(Index(['模型运行日期', '预测时间', '地点', '近地2米温度（℃）', '地表温度（K）', '比湿（kg/kg）', '湿度（%）',\n",
       "        '近地10米风速（m/s）', '近地10米风向（°）', '雨量（mm）', '云量', '边界层高度（m）', '大气压（Kpa）',\n",
       "        '感热通量（W/m²）', '潜热通量（W/m²）', '长波辐射（W/m²）', '短波辐射（W/m²）', '地面太阳能辐射（W/m²）',\n",
       "        'SO2小时平均浓度(μg/m³)', 'NO2小时平均浓度(μg/m³)', 'PM10小时平均浓度(μg/m³)',\n",
       "        'PM2.5小时平均浓度(μg/m³)', 'O3小时平均浓度(μg/m³)', 'CO小时平均浓度(mg/m³)'],\n",
       "       dtype='object'),\n",
       " 21)"
      ]
     },
     "execution_count": 118,
     "metadata": {},
     "output_type": "execute_result"
    }
   ],
   "source": [
    "key = data['A'][0].columns\n",
    "key, len(key[3:])"
   ]
  },
  {
   "cell_type": "code",
   "execution_count": 119,
   "metadata": {},
   "outputs": [
    {
     "name": "stdout",
     "output_type": "stream",
     "text": [
      "预测天气状况 Index(['近地2米温度（℃）', '地表温度（K）', '比湿（kg/kg）', '湿度（%）', '近地10米风速（m/s）',\n",
      "       '近地10米风向（°）', '雨量（mm）', '云量', '边界层高度（m）', '大气压（Kpa）', '感热通量（W/m²）',\n",
      "       '潜热通量（W/m²）', '长波辐射（W/m²）', '短波辐射（W/m²）', '地面太阳能辐射（W/m²）'],\n",
      "      dtype='object')\n",
      "预测污染因素 Index(['SO2小时平均浓度(μg/m³)', 'NO2小时平均浓度(μg/m³)', 'PM10小时平均浓度(μg/m³)',\n",
      "       'PM2.5小时平均浓度(μg/m³)', 'O3小时平均浓度(μg/m³)', 'CO小时平均浓度(mg/m³)'],\n",
      "      dtype='object')\n"
     ]
    }
   ],
   "source": [
    "PREDICTED_KEYS = key[3:]\n",
    "print(\"预测天气状况\",PREDICTED_KEYS[:-6])\n",
    "print(\"预测污染因素\",PREDICTED_KEYS[-6:])"
   ]
  },
  {
   "cell_type": "code",
   "execution_count": 120,
   "metadata": {},
   "outputs": [],
   "source": [
    "def plot_prediction_hist_by_time(place):\n",
    "    \"对逐小时污染物浓度与气象一次预报数据的分析\"\n",
    "    key = data[place][0].columns\n",
    "    PREDICTED_KEYS = key[3:]\n",
    "    fig, axes = plt.subplots(nrows=7, ncols=3, figsize=FIGSIZE)\n",
    "    fig.tight_layout(h_pad=3)\n",
    "    plt.suptitle(place+\"_0\", size=30)\n",
    "    \n",
    "    for i, k in enumerate(PREDICTED_KEYS):\n",
    "        data[place][0].plot.line(ax = axes[i//3][i%3], x = key[1] , y=k)\n",
    "    plt.savefig(\"results/{}_0逐小时污染物浓度与气象一次预报数据.{}\".format(place, FORMAT), format=FORMAT)\n",
    "    plt.close()\n",
    "\n",
    "\n",
    "for p in PLACES:\n",
    "    plot_prediction_hist_by_time(p)"
   ]
  },
  {
   "cell_type": "markdown",
   "metadata": {},
   "source": [
    "## 1 对逐小时污染物浓度与气象实测数据的分析"
   ]
  },
  {
   "cell_type": "code",
   "execution_count": 121,
   "metadata": {},
   "outputs": [
    {
     "data": {
      "text/plain": [
       "(Index(['监测时间', '地点', 'SO2监测浓度(μg/m³)', 'NO2监测浓度(μg/m³)', 'PM10监测浓度(μg/m³)',\n",
       "        'PM2.5监测浓度(μg/m³)', 'O3监测浓度(μg/m³)', 'CO监测浓度(mg/m³)', '温度(℃)', '湿度(%)',\n",
       "        '气压(MBar)', '风速(m/s)', '风向(°)'],\n",
       "       dtype='object'),\n",
       " 11)"
      ]
     },
     "execution_count": 121,
     "metadata": {},
     "output_type": "execute_result"
    }
   ],
   "source": [
    "key = data['A'][1].columns\n",
    "key, len(key[2:])"
   ]
  },
  {
   "cell_type": "code",
   "execution_count": 122,
   "metadata": {},
   "outputs": [
    {
     "name": "stdout",
     "output_type": "stream",
     "text": [
      "测量天气状况 Index(['SO2监测浓度(μg/m³)', 'NO2监测浓度(μg/m³)', 'PM10监测浓度(μg/m³)',\n",
      "       'PM2.5监测浓度(μg/m³)', 'O3监测浓度(μg/m³)', 'CO监测浓度(mg/m³)'],\n",
      "      dtype='object')\n",
      "测量污染因素 Index(['温度(℃)', '湿度(%)', '气压(MBar)', '风速(m/s)', '风向(°)'], dtype='object')\n"
     ]
    }
   ],
   "source": [
    "MEASURED_KEYS = key[2:]\n",
    "print(\"测量天气状况\",MEASURED_KEYS[:6])\n",
    "print(\"测量污染因素\",MEASURED_KEYS[6:])"
   ]
  },
  {
   "cell_type": "code",
   "execution_count": 123,
   "metadata": {},
   "outputs": [],
   "source": [
    "def plot_measured_hist_by_hour(place):\n",
    "    \"对逐小时污染物浓度与气象一次预报数据的分析\"\n",
    "    key = data[place][1].columns\n",
    "    MEASURED_KEYS = key[2:]\n",
    "    fig, axes = plt.subplots(nrows=4, ncols=3, figsize=FIGSIZE)\n",
    "    for i, k in enumerate(MEASURED_KEYS):\n",
    "        axes[i//3][i%3].set_xticks([])\n",
    "        # 预处理\n",
    "        data[place][1][k].fillna(0)\n",
    "        # 将object类型转为数值类型\n",
    "        data[place][1][k] = pd.to_numeric(data[place][1][k], errors='coerce')\n",
    "        data[place][1].plot.line(ax = axes[i//3][i%3], x = key[0] , y=k)\n",
    "    fig.tight_layout(h_pad=3)\n",
    "    plt.suptitle(place+\"_1\", size=30)\n",
    "    plt.savefig(\"results/{}_1逐小时污染物浓度与气象实测数据.{}\".format(place, FORMAT), format=FORMAT)\n",
    "    plt.close()\n",
    "    \n",
    "for p in PLACES:\n",
    "    plot_measured_hist_by_hour(p)"
   ]
  },
  {
   "cell_type": "markdown",
   "metadata": {},
   "source": [
    "## 2 对逐日污染物浓度实测数据的分析"
   ]
  },
  {
   "cell_type": "code",
   "execution_count": 124,
   "metadata": {},
   "outputs": [
    {
     "data": {
      "text/plain": [
       "(Index(['监测日期', '地点', 'SO2监测浓度(μg/m³)', 'NO2监测浓度(μg/m³)', 'PM10监测浓度(μg/m³)',\n",
       "        'PM2.5监测浓度(μg/m³)', 'O3最大八小时滑动平均监测浓度(μg/m³)', 'CO监测浓度(mg/m³)'],\n",
       "       dtype='object'),\n",
       " 6)"
      ]
     },
     "execution_count": 124,
     "metadata": {},
     "output_type": "execute_result"
    }
   ],
   "source": [
    "key = data['A'][2].columns\n",
    "key, len(key[2:])"
   ]
  },
  {
   "cell_type": "code",
   "execution_count": 125,
   "metadata": {},
   "outputs": [
    {
     "name": "stdout",
     "output_type": "stream",
     "text": [
      "测量污染因素 Index(['SO2监测浓度(μg/m³)', 'NO2监测浓度(μg/m³)', 'PM10监测浓度(μg/m³)',\n",
      "       'PM2.5监测浓度(μg/m³)', 'O3最大八小时滑动平均监测浓度(μg/m³)', 'CO监测浓度(mg/m³)'],\n",
      "      dtype='object')\n"
     ]
    }
   ],
   "source": [
    "MEASURED_KEYS = key[2:]\n",
    "print(\"测量污染因素\",MEASURED_KEYS[:])"
   ]
  },
  {
   "cell_type": "code",
   "execution_count": 126,
   "metadata": {},
   "outputs": [],
   "source": [
    "def plot_measured_polution_hist_by_day(place):\n",
    "    \"对逐小时污染物浓度与气象一次预报数据的分析\"\n",
    "    key = data[place][2].columns\n",
    "    MEASURED_KEYS = key[2:]\n",
    "    fig, axes = plt.subplots(nrows=2, ncols=3, figsize=FIGSIZE)\n",
    "    for i, k in enumerate(MEASURED_KEYS):\n",
    "        # 预处理\n",
    "        data[place][2][k].fillna(0)\n",
    "        # 将object类型转为数值类型\n",
    "        data[place][2][k] = pd.to_numeric(data[place][2][k], errors='coerce')\n",
    "        data[place][2].plot.line(ax = axes[i//3][i%3], x = key[0] , y=k)\n",
    "    fig.tight_layout(h_pad=3)\n",
    "    plt.suptitle(place+\"_2\", size=30)\n",
    "    plt.savefig(\"results/{}_2逐日污染物浓度实测数据.{}\".format(place, FORMAT), format=FORMAT)\n",
    "    plt.close()\n",
    "# 解锁运行  \n",
    "for p in PLACES:\n",
    "    plot_measured_polution_hist_by_day(p)"
   ]
  }
 ],
 "metadata": {
  "kernelspec": {
   "display_name": "common",
   "language": "python",
   "name": "common"
  },
  "language_info": {
   "codemirror_mode": {
    "name": "ipython",
    "version": 3
   },
   "file_extension": ".py",
   "mimetype": "text/x-python",
   "name": "python",
   "nbconvert_exporter": "python",
   "pygments_lexer": "ipython3",
   "version": "3.8.3"
  }
 },
 "nbformat": 4,
 "nbformat_minor": 4
}
