{
 "cells": [
  {
   "cell_type": "markdown",
   "id": "3d6d8fd2-a5b6-46bb-a320-0c6937441136",
   "metadata": {},
   "source": [
    "- F, p, R^2 单个污染物与单个气象条件（13个）\n",
    "\n",
    "- F, p单个污染物与所有气象条件\n",
    "\n",
    "- 回归预测\n",
    "\n",
    "- 计算AQI，首要污染物\n",
    "\n",
    "- 对比：AQI对比"
   ]
  },
  {
   "cell_type": "code",
   "execution_count": 1,
   "id": "e037bc81-a980-45f4-a4a9-4c553bd7ecae",
   "metadata": {},
   "outputs": [
    {
     "data": {
      "text/plain": [
       "'/home/qiangzibro/2021-math-model-code'"
      ]
     },
     "execution_count": 1,
     "metadata": {},
     "output_type": "execute_result"
    }
   ],
   "source": [
    "import os\n",
    "# set working directory to root \n",
    "os.chdir('..')\n",
    "os.getcwd()"
   ]
  },
  {
   "cell_type": "code",
   "execution_count": 15,
   "id": "6e70776c-e65f-4edf-96f9-d947a94c9ea7",
   "metadata": {},
   "outputs": [],
   "source": [
    "from common.io import load_table\n",
    "import pandas as pd, numpy as np\n",
    "from common.io import load, load_table\n",
    "from sklearn.preprocessing import OneHotEncoder\n",
    "import matplotlib.pyplot as plt\n",
    "import time\n",
    "from threading import Thread\n",
    "from multiprocessing import Process\n",
    "import pandas as pd        \n",
    "from pygam import LogisticGAM\n",
    "from sklearn.datasets import load_breast_cancer\n",
    "\n",
    "plt.style.use('ggplot')\n",
    "# Linux上解决字体问题\n",
    "plt.rcParams['font.sans-serif']= ['Noto Serif CJK JP'] #显示中文标签\n",
    "plt.rcParams['axes.unicode_minus']=False "
   ]
  },
  {
   "cell_type": "code",
   "execution_count": 71,
   "id": "1e454705-b34f-4cd9-b68c-3daaabf2fea2",
   "metadata": {},
   "outputs": [],
   "source": [
    "def cal_time(func):\n",
    "    def inner(args):\n",
    "        start = time.time()\n",
    "        result = func(args)\n",
    "        end = time.time()\n",
    "        print(f\"{end-start}s passed\")\n",
    "        return result\n",
    "    return inner"
   ]
  },
  {
   "cell_type": "markdown",
   "id": "6c887891-af0d-40f1-8ae8-6db72146df2c",
   "metadata": {},
   "source": [
    "顺手写了一个多线程加载方法"
   ]
  },
  {
   "cell_type": "code",
   "execution_count": 72,
   "id": "ede67609-c731-4741-af9c-911856a06529",
   "metadata": {},
   "outputs": [],
   "source": [
    "# import concurrent\n",
    "\n",
    "# @cal_time\n",
    "# def load_df_threading():\n",
    "#     df = {i:None for i in \"ABC\"}\n",
    "#     def _load(p):\n",
    "#         df[p] = load_table(p)\n",
    "    \n",
    "#     with concurrent.futures.ThreadPoolExecutor(max_workers=3) as executor:\n",
    "#         futures = {executor.submit(_load, i): i for i in \"ABC\"}\n",
    "#         for future in concurrent.futures.as_completed(futures):\n",
    "#             p = futures[future]\n",
    "#             try:\n",
    "#                 df[p] = future.result()\n",
    "#             except Exception as exc:\n",
    "#                 print(exc)\n",
    "#     return df\n",
    "\n",
    "# data_df = load_df_threading()"
   ]
  },
  {
   "cell_type": "code",
   "execution_count": 73,
   "id": "55b8047a-a93f-4bfb-ae71-9bc24499acf7",
   "metadata": {},
   "outputs": [
    {
     "name": "stdout",
     "output_type": "stream",
     "text": [
      "11.727554559707642s passed\n"
     ]
    }
   ],
   "source": [
    "import concurrent\n",
    "\n",
    "@cal_time\n",
    "def load(places):\n",
    "    df = {i:None for i in places}\n",
    "    with concurrent.futures.ProcessPoolExecutor(max_workers=len(places)) as executor:\n",
    "        for p, result in zip(places, executor.map(load_table, places)):\n",
    "            df[p] = result\n",
    "    return df\n",
    "\n",
    "data_df = load('ABC')"
   ]
  },
  {
   "cell_type": "code",
   "execution_count": 18,
   "id": "5e6f0eb9-cd80-4752-9170-ce057b012d3d",
   "metadata": {},
   "outputs": [
    {
     "name": "stdout",
     "output_type": "stream",
     "text": [
      "31.66095805168152s passed\n"
     ]
    }
   ],
   "source": [
    "@cal_time\n",
    "def load_df():\n",
    "    return  {\n",
    "        \"A\":load_table(\"A\"),\n",
    "        \"B\":load_table(\"B\"),\n",
    "        \"C\":load_table(\"C\"),\n",
    "    }\n",
    "\n",
    "data_df = load_df()"
   ]
  },
  {
   "cell_type": "code",
   "execution_count": 69,
   "id": "cd91d561-84c8-4a95-a6fa-ac7e078c7c12",
   "metadata": {},
   "outputs": [],
   "source": [
    "cols = ['近地2米温度（℃）', '地表温度（K）',\n",
    "       '比湿（kg/kg）', '湿度（%）', '近地10米风速（m/s）', '雨量（mm）', '云量',\n",
    "       '边界层高度（m）', '大气压（Kpa）', '感热通量（W/m²）', '潜热通量（W/m²）', '长波辐射（W/m²）',\n",
    "       '短波辐射（W/m²）']"
   ]
  },
  {
   "cell_type": "code",
   "execution_count": 70,
   "id": "db46198e-485a-4b5d-919d-4a425fe1617d",
   "metadata": {},
   "outputs": [],
   "source": [
    "pollutions = ['SO2小时平均浓度(μg/m³)', 'NO2小时平均浓度(μg/m³)',\n",
    "       'PM10小时平均浓度(μg/m³)', 'PM2.5小时平均浓度(μg/m³)', 'O3小时平均浓度(μg/m³)',\n",
    "       'CO小时平均浓度(mg/m³)']"
   ]
  },
  {
   "cell_type": "code",
   "execution_count": 80,
   "id": "d5d73616-4db0-4539-96e6-095e06dd0300",
   "metadata": {},
   "outputs": [
    {
     "name": "stderr",
     "output_type": "stream",
     "text": [
      "/usr/miniconda3/envs/math/lib/python3.7/site-packages/pygam/pygam.py:1112: RuntimeWarning: invalid value encountered in double_scalars\n",
      "  r2['McFadden'] = full_ll/null_ll\n",
      "/usr/miniconda3/envs/math/lib/python3.7/site-packages/pygam/pygam.py:1113: RuntimeWarning: invalid value encountered in double_scalars\n",
      "  r2['McFadden_adj'] = 1. - (full_ll - self.statistics_['edof'])/null_ll\n"
     ]
    }
   ],
   "source": [
    "df = data_df['A']['0']\n",
    "X = df[cols]\n",
    "y = df[pollutions[0]]\n",
    "y = np.abs(y - y.mean())/(y.max() - y.min()) \n",
    "#Fit a model with the default parameters\n",
    "gam = LogisticGAM().fit(X, y)"
   ]
  },
  {
   "cell_type": "code",
   "execution_count": 81,
   "id": "e7e1633c-6dd0-45fc-917e-0e2ba7c6f89f",
   "metadata": {},
   "outputs": [
    {
     "name": "stdout",
     "output_type": "stream",
     "text": [
      "LogisticGAM                                                                                               \n",
      "=============================================== ==========================================================\n",
      "Distribution:                      BinomialDist Effective DoF:                                    146.0044\n",
      "Link Function:                        LogitLink Log Likelihood:                                       -inf\n",
      "Number of Samples:                        25416 AIC:                                                   inf\n",
      "                                                AICc:                                                  inf\n",
      "                                                UBRE:                                               2.0392\n",
      "                                                Scale:                                                 1.0\n",
      "                                                Pseudo R-Squared:                                     0.22\n",
      "==========================================================================================================\n",
      "Feature Function                  Lambda               Rank         EDoF         P > x        Sig. Code   \n",
      "================================= ==================== ============ ============ ============ ============\n",
      "s(0)                              [0.6]                20           13.4         7.85e-01                 \n",
      "s(1)                              [0.6]                20           11.2         3.28e-01                 \n",
      "s(2)                              [0.6]                20           13.1         9.06e-01                 \n",
      "s(3)                              [0.6]                20           12.0         9.99e-01                 \n",
      "s(4)                              [0.6]                20           10.8         8.69e-01                 \n",
      "s(5)                              [0.6]                20           5.4          1.00e+00                 \n",
      "s(6)                              [0.6]                20           13.3         1.00e+00                 \n",
      "s(7)                              [0.6]                20           11.2         8.91e-01                 \n",
      "s(8)                              [0.6]                20           10.9         9.85e-01                 \n",
      "s(9)                              [0.6]                20           10.6         1.00e+00                 \n",
      "s(10)                             [0.6]                20           11.5         1.00e+00                 \n",
      "s(11)                             [0.6]                20           10.9         9.03e-01                 \n",
      "s(12)                             [0.6]                20           11.6         9.99e-01                 \n",
      "intercept                                              1            0.0          2.15e-03     **          \n",
      "==========================================================================================================\n",
      "Significance codes:  0 '***' 0.001 '**' 0.01 '*' 0.05 '.' 0.1 ' ' 1\n",
      "\n",
      "WARNING: Fitting splines and a linear function to a feature introduces a model identifiability problem\n",
      "         which can cause p-values to appear significant when they are not.\n",
      "\n",
      "WARNING: p-values calculated in this manner behave correctly for un-penalized models or models with\n",
      "         known smoothing parameters, but when smoothing parameters have been estimated, the p-values\n",
      "         are typically lower than they should be, meaning that the tests reject the null too readily.\n"
     ]
    },
    {
     "name": "stderr",
     "output_type": "stream",
     "text": [
      "/usr/miniconda3/envs/math/lib/python3.7/site-packages/ipykernel_launcher.py:1: UserWarning: KNOWN BUG: p-values computed in this summary are likely much smaller than they should be. \n",
      " \n",
      "Please do not make inferences based on these values! \n",
      "\n",
      "Collaborate on a solution, and stay up to date at: \n",
      "github.com/dswah/pyGAM/issues/163 \n",
      "\n",
      "  \"\"\"Entry point for launching an IPython kernel.\n"
     ]
    }
   ],
   "source": [
    "gam.summary()"
   ]
  },
  {
   "cell_type": "markdown",
   "id": "ff1e43de-bf02-4483-b00d-c96fe2d526dd",
   "metadata": {},
   "source": [
    "## Regression\n",
    "For regression problems, we can use a linear GAM which models:"
   ]
  },
  {
   "cell_type": "code",
   "execution_count": null,
   "id": "44f33734-478e-4448-b0e1-50a9607d33dc",
   "metadata": {},
   "outputs": [
    {
     "name": "stderr",
     "output_type": "stream",
     "text": [
      "  0% (0 of 11) |                         | Elapsed Time: 0:00:00 ETA:  --:--:--"
     ]
    }
   ],
   "source": [
    "from pygam import LinearGAM, s, f\n",
    "from pygam.datasets import wage\n",
    "\n",
    "\n",
    "X = df[cols]\n",
    "y = df[pollutions[0]]\n",
    "y = np.abs(y - y.mean())/(y.max() - y.min()) \n",
    "X = X.values\n",
    "\n",
    "## model\n",
    "gam = LinearGAM(s(0) + s(1) + f(2))\n",
    "gam.gridsearch(X, y)"
   ]
  },
  {
   "cell_type": "code",
   "execution_count": null,
   "id": "9f99e9da-1d6e-454e-9cd7-560ecaf2ba6f",
   "metadata": {},
   "outputs": [],
   "source": [
    "## plotting\n",
    "plt.figure();\n",
    "fig, axs = plt.subplots(1,3);\n",
    "\n",
    "titles = cols\n",
    "for i, ax in enumerate(axs):\n",
    "    XX = gam.generate_X_grid(term=i)\n",
    "    ax.plot(XX[:, i], gam.partial_dependence(term=i, X=XX))\n",
    "    ax.plot(XX[:, i], gam.partial_dependence(term=i, X=XX, width=.95)[1], c='r', ls='--')\n",
    "    if i == 0:\n",
    "        ax.set_ylim(-30,30)\n",
    "    ax.set_title(titles[i]);"
   ]
  },
  {
   "cell_type": "code",
   "execution_count": null,
   "id": "11116bb1-6651-47d4-a3e0-640cfa0d149e",
   "metadata": {},
   "outputs": [],
   "source": [
    "from pygam import LinearGAM\n",
    "from pygam.datasets import mcycle\n",
    "\n",
    "X, y = mcycle(return_X_y=True)\n",
    "\n",
    "gam = LinearGAM(n_splines=25).gridsearch(X, y)\n",
    "XX = gam.generate_X_grid(term=0, n=500)\n",
    "\n",
    "plt.plot(XX, gam.predict(XX), 'r--')\n",
    "plt.plot(XX, gam.prediction_intervals(XX, width=.95), color='b', ls='--')\n",
    "\n",
    "plt.scatter(X, y, facecolor='gray', edgecolors='none')\n",
    "plt.title('95% prediction interval');"
   ]
  },
  {
   "cell_type": "code",
   "execution_count": null,
   "id": "f7eeff93-089d-47df-acb1-66deaf9e4eb5",
   "metadata": {},
   "outputs": [],
   "source": [
    "# continuing last example with the mcycle dataset\n",
    "for response in gam.sample(X, y, quantity='y', n_draws=50, sample_at_X=XX):\n",
    "    plt.scatter(XX, response, alpha=.03, color='k')\n",
    "plt.plot(XX, gam.predict(XX), 'r--')\n",
    "plt.plot(XX, gam.prediction_intervals(XX, width=.95), color='b', ls='--')\n",
    "plt.title('draw samples from the posterior of the coefficients')"
   ]
  }
 ],
 "metadata": {
  "kernelspec": {
   "display_name": "Python 3 (ipykernel)",
   "language": "python",
   "name": "python3"
  },
  "language_info": {
   "codemirror_mode": {
    "name": "ipython",
    "version": 3
   },
   "file_extension": ".py",
   "mimetype": "text/x-python",
   "name": "python",
   "nbconvert_exporter": "python",
   "pygments_lexer": "ipython3",
   "version": "3.7.7"
  }
 },
 "nbformat": 4,
 "nbformat_minor": 5
}
