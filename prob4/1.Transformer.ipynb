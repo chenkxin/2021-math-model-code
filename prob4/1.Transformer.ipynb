{
 "cells": [
  {
   "cell_type": "markdown",
   "metadata": {},
   "source": [
    "本篇文章探讨Transformer在时间序列中的应用\n",
    "\n",
    "\n",
    "## 参考\n",
    "https://medium.com/mlearning-ai/transformer-implementation-for-time-series-forecasting-a9db2db5c820\n",
    "\n",
    "时序Transformer的库\n",
    "Github： https://github.com/maxjcohen/transformer   \n",
    "文档：https://timeseriestransformer.readthedocs.io/en/latest/index.html"
   ]
  },
  {
   "cell_type": "code",
   "execution_count": null,
   "metadata": {},
   "outputs": [],
   "source": []
  }
 ],
 "metadata": {
  "kernelspec": {
   "display_name": "common",
   "language": "python",
   "name": "common"
  },
  "language_info": {
   "codemirror_mode": {
    "name": "ipython",
    "version": 3
   },
   "file_extension": ".py",
   "mimetype": "text/x-python",
   "name": "python",
   "nbconvert_exporter": "python",
   "pygments_lexer": "ipython3",
   "version": "3.8.3"
  }
 },
 "nbformat": 4,
 "nbformat_minor": 4
}
