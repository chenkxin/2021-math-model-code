{
 "cells": [
  {
   "cell_type": "markdown",
   "metadata": {},
   "source": [
    "https://www.machinelearningplus.com/time-series/arima-model-time-series-forecasting-python/"
   ]
  },
  {
   "cell_type": "code",
   "execution_count": 1,
   "metadata": {},
   "outputs": [
    {
     "data": {
      "text/plain": [
       "'/home/qiangzibro/2021-math-model-code'"
      ]
     },
     "execution_count": 1,
     "metadata": {},
     "output_type": "execute_result"
    }
   ],
   "source": [
    "import os\n",
    "# set working directory to root \n",
    "os.chdir('..')\n",
    "os.getcwd()"
   ]
  },
  {
   "cell_type": "code",
   "execution_count": 3,
   "metadata": {},
   "outputs": [],
   "source": [
    "import pandas as pd, numpy as np\n",
    "from common.io import load, load_tables\n",
    "from sklearn.preprocessing import OneHotEncoder\n",
    "import matplotlib.pyplot as plt\n",
    "from statsmodels.tsa.arima_model import ARMA\n",
    "\n",
    "plt.style.use('ggplot')\n",
    "# Linux上解决字体问题\n",
    "plt.rcParams['font.sans-serif']= ['Noto Serif CJK JP'] #显示中文标签\n",
    "plt.rcParams['axes.unicode_minus']=False "
   ]
  },
  {
   "cell_type": "code",
   "execution_count": 5,
   "metadata": {},
   "outputs": [
    {
     "name": "stdout",
     "output_type": "stream",
     "text": [
      "19.636690616607666s passed\n"
     ]
    }
   ],
   "source": [
    "data = load_tables([f'A{i}' for i in range(1,4)])"
   ]
  },
  {
   "cell_type": "code",
   "execution_count": 14,
   "metadata": {},
   "outputs": [
    {
     "data": {
      "text/plain": [
       "Index(['SO2监测浓度(μg/m³)', 'NO2监测浓度(μg/m³)', 'PM10监测浓度(μg/m³)',\n",
       "       'PM2.5监测浓度(μg/m³)', 'O3监测浓度(μg/m³)', 'CO监测浓度(mg/m³)', '温度(℃)', '湿度(%)',\n",
       "       '近地风速(m/s)', '风向(°)'],\n",
       "      dtype='object')"
      ]
     },
     "execution_count": 14,
     "metadata": {},
     "output_type": "execute_result"
    }
   ],
   "source": [
    "df= data['A1']['1']\n",
    "columns = df.columns[list(df.columns).index('地点')+1:]\n",
    "columns"
   ]
  },
  {
   "cell_type": "code",
   "execution_count": 15,
   "metadata": {},
   "outputs": [
    {
     "name": "stdout",
     "output_type": "stream",
     "text": [
      "SO2监测浓度(μg/m³)\n",
      "ADF Statistic: -9.300432\n",
      "p-value: 0.000000\n",
      "NO2监测浓度(μg/m³)\n",
      "ADF Statistic: -8.270309\n",
      "p-value: 0.000000\n",
      "PM10监测浓度(μg/m³)\n",
      "ADF Statistic: -8.078716\n",
      "p-value: 0.000000\n",
      "PM2.5监测浓度(μg/m³)\n",
      "ADF Statistic: -9.162738\n",
      "p-value: 0.000000\n",
      "O3监测浓度(μg/m³)\n",
      "ADF Statistic: -9.193409\n",
      "p-value: 0.000000\n",
      "CO监测浓度(mg/m³)\n",
      "ADF Statistic: -8.761504\n",
      "p-value: 0.000000\n",
      "温度(℃)\n",
      "ADF Statistic: -2.832451\n",
      "p-value: 0.053786\n",
      "湿度(%)\n",
      "ADF Statistic: -3.158174\n",
      "p-value: 0.022537\n",
      "近地风速(m/s)\n",
      "ADF Statistic: -8.197743\n",
      "p-value: 0.000000\n",
      "风向(°)\n",
      "ADF Statistic: -7.670194\n",
      "p-value: 0.000000\n"
     ]
    }
   ],
   "source": [
    "from statsmodels.tsa.stattools import adfuller\n",
    "from numpy import log\n",
    "for c in columns:\n",
    "    print(c)\n",
    "    result = adfuller(df[c].values)\n",
    "    print('ADF Statistic: %f' % result[0])\n",
    "    print('p-value: %f' % result[1])"
   ]
  },
  {
   "cell_type": "code",
   "execution_count": null,
   "metadata": {},
   "outputs": [],
   "source": []
  }
 ],
 "metadata": {
  "kernelspec": {
   "display_name": "Python 3 (ipykernel)",
   "language": "python",
   "name": "python3"
  },
  "language_info": {
   "codemirror_mode": {
    "name": "ipython",
    "version": 3
   },
   "file_extension": ".py",
   "mimetype": "text/x-python",
   "name": "python",
   "nbconvert_exporter": "python",
   "pygments_lexer": "ipython3",
   "version": "3.7.7"
  }
 },
 "nbformat": 4,
 "nbformat_minor": 4
}
